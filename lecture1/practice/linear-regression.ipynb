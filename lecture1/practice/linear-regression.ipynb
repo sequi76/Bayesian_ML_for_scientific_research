{
 "cells": [
  {
   "cell_type": "markdown",
   "metadata": {},
   "source": [
    "# Minicourse of Bayesian Machine Learning for Scientific Research\n",
    "## Lecture 1\n",
    "\n",
    "This notebook contains problems and discussions for the course.  We want you to pay attention and participate in the lectures, this is why, on-purpose, notebooks are not self-contained.  It has many comments that should be uncommented and tested, etc.  And many important comments are discussed in the lectures.\n",
    "\n",
    "This notebook if intended solely for the Minicourse of Bayesian Machine Learning for Scientific Research.  Ezequiel Alvarez (sequialvz@gmail.com)"
   ]
  },
  {
   "cell_type": "code",
   "execution_count": 72,
   "metadata": {},
   "outputs": [],
   "source": [
    "import stan\n",
    "import pandas as pd\n",
    "import numpy as np\n",
    "import scipy.stats as stats \n",
    "import matplotlib\n",
    "import matplotlib.pyplot as plt\n",
    "#matplotlib.rcParams['figure.figsize']=5,5\n",
    "matplotlib.rcParams['figure.dpi']=100\n",
    "#plt.style.use('ggplot')"
   ]
  },
  {
   "cell_type": "code",
   "execution_count": 2,
   "metadata": {},
   "outputs": [],
   "source": [
    "# this is a work around found at \n",
    "# https://stackoverflow.com/questions/56154176/runtimeerror-asyncio-run-cannot-be-called-from-a-running-event-loop-in-spyd\n",
    "import nest_asyncio\n",
    "nest_asyncio.apply()"
   ]
  },
  {
   "cell_type": "markdown",
   "metadata": {},
   "source": [
    "# Linear regression\n",
    "\n",
    "A first 'Hello world' script for STAN.  We fit a linear problem (straight line) in an alternative way to least squares, and find how this Bayesian techniques become useful as the problem gets more involved!"
   ]
  },
  {
   "cell_type": "markdown",
   "metadata": {},
   "source": [
    "Problem: We want to measure how much a town pollutes a river, hence we take water samples along the river at different distances (x) and we measure how much pollution (y) there is in the water.  However, at the begining of our itinerary ( x ~ 0 ) we have a bias, because we can only access the river through streets that are close to water waastes, and we expect to measure larger than what it is.  \n",
    "\n",
    "We start with a simple problem and we get more involved as we go."
   ]
  },
  {
   "cell_type": "markdown",
   "metadata": {},
   "source": [
    "#### Generate data"
   ]
  },
  {
   "cell_type": "code",
   "execution_count": 334,
   "metadata": {},
   "outputs": [],
   "source": [
    "# We assume a linear model, that is that pollution y increases linearly with the distance x, and that there is an initial pollution already in the river.\n",
    "np.random.seed(1)\n",
    "m = 5\n",
    "b = 25\n",
    "noise = 10\n",
    "x = np.random.uniform(0,20,10)\n",
    "#x_biased = np.random.uniform(0,20,10)\n",
    "y = []\n",
    "#y_biased = []\n",
    "for i in range(len(x)):\n",
    "    y.append( m * x[i] + b + np.random.normal(0,noise) )    \n",
    " #   y_biased.append( m * x_biased[i] + b + np.random.normal(bias,noise) )    \n"
   ]
  },
  {
   "cell_type": "code",
   "execution_count": 335,
   "metadata": {},
   "outputs": [
    {
     "data": {
      "image/png": "[encoded data removed]",
      "text/plain": [
       "<Figure size 600x400 with 1 Axes>"
      ]
     },
     "metadata": {
      "needs_background": "light"
     },
     "output_type": "display_data"
    }
   ],
   "source": [
    "x0 = np.linspace(0,20,10)\n",
    "plt.scatter(x,y, color = 'blue')\n",
    "#plt.scatter(x_biased,y_biased, color='red')\n",
    "plt.plot(x0, m*x0+b, linestyle='dashed')\n",
    "#plt.ylim(0,max(y)*1.10)\n",
    "plt.show()"
   ]
  },
  {
   "cell_type": "markdown",
   "metadata": {
    "jp-MarkdownHeadingCollapsed": true
   },
   "source": [
    "#### Inference with Stan"
   ]
  },
  {
   "cell_type": "code",
   "execution_count": 336,
   "metadata": {},
   "outputs": [],
   "source": [
    "contamination_model=\"\"\"\n",
    "data {\n",
    " int <lower=0> N;\n",
    " vector[N] x;\n",
    " vector[N] y;\n",
    "}\n",
    "\n",
    "parameters {\n",
    "  real m;\n",
    "  real b;\n",
    "  real<lower=0> sigma;\n",
    "}\n",
    "model {\n",
    "  //b ~ normal(10,10);\n",
    "  y ~ normal(m * x + b, sigma);\n",
    "}\n",
    "\"\"\""
   ]
  },
  {
   "cell_type": "code",
   "execution_count": 337,
   "metadata": {},
   "outputs": [],
   "source": [
    "contamination_data={ 'N': len(x), 'x': x, 'y': y}"
   ]
  },
  {
   "cell_type": "code",
   "execution_count": 338,
   "metadata": {},
   "outputs": [
    {
     "name": "stderr",
     "output_type": "stream",
     "text": [
      "\u001b[32mBuilding:\u001b[0m found in cache, done.\n",
      "\u001b[36mMessages from \u001b[0m\u001b[36;1mstanc\u001b[0m\u001b[36m:\u001b[0m\n",
      "Warning: The parameter sigma has no priors. This means either no prior is\n",
      "    provided, or the prior(s) depend on data variables. In the later case,\n",
      "    this may be a false positive.\n",
      "Warning: The parameter m has no priors. This means either no prior is\n",
      "    provided, or the prior(s) depend on data variables. In the later case,\n",
      "    this may be a false positive.\n",
      "Warning: The parameter b has no priors. This means either no prior is\n",
      "    provided, or the prior(s) depend on data variables. In the later case,\n",
      "    this may be a false positive.\n"
     ]
    }
   ],
   "source": [
    "model = stan.build(contamination_model, data=contamination_data, random_seed=1);"
   ]
  },
  {
   "cell_type": "code",
   "execution_count": 339,
   "metadata": {},
   "outputs": [
    {
     "name": "stderr",
     "output_type": "stream",
     "text": [
      "\u001b[36mSampling:\u001b[0m   0%\n",
      "\u001b[1A\u001b[0J\u001b[36mSampling:\u001b[0m  25% (2000/8000)\n",
      "\u001b[1A\u001b[0J\u001b[36mSampling:\u001b[0m  50% (4000/8000)\n",
      "\u001b[1A\u001b[0J\u001b[36mSampling:\u001b[0m  75% (6000/8000)\n",
      "\u001b[1A\u001b[0J\u001b[36mSampling:\u001b[0m 100% (8000/8000)\n",
      "\u001b[1A\u001b[0J\u001b[32mSampling:\u001b[0m 100% (8000/8000), done.\n",
      "\u001b[36mMessages received during sampling:\u001b[0m\n",
      "  Gradient evaluation took 3e-06 seconds\n",
      "  1000 transitions using 10 leapfrog steps per transition would take 0.03 seconds.\n",
      "  Adjust your expectations accordingly!\n",
      "  Gradient evaluation took 2e-06 seconds\n",
      "  1000 transitions using 10 leapfrog steps per transition would take 0.02 seconds.\n",
      "  Adjust your expectations accordingly!\n",
      "  Gradient evaluation took 2e-06 seconds\n",
      "  1000 transitions using 10 leapfrog steps per transition would take 0.02 seconds.\n",
      "  Adjust your expectations accordingly!\n",
      "  Gradient evaluation took 1e-06 seconds\n",
      "  1000 transitions using 10 leapfrog steps per transition would take 0.01 seconds.\n",
      "  Adjust your expectations accordingly!\n"
     ]
    }
   ],
   "source": [
    "fit = model.sample(num_chains=4, num_samples=1000)"
   ]
  },
  {
   "cell_type": "code",
   "execution_count": 340,
   "metadata": {},
   "outputs": [],
   "source": [
    "df = fit.to_frame() "
   ]
  },
  {
   "cell_type": "code",
   "execution_count": 341,
   "metadata": {},
   "outputs": [
    {
     "data": {
      "text/html": [
       "<div>\n",
       "<style scoped>\n",
       "    .dataframe tbody tr th:only-of-type {\n",
       "        vertical-align: middle;\n",
       "    }\n",
       "\n",
       "    .dataframe tbody tr th {\n",
       "        vertical-align: top;\n",
       "    }\n",
       "\n",
       "    .dataframe thead th {\n",
       "        text-align: right;\n",
       "    }\n",
       "</style>\n",
       "<table border=\"1\" class=\"dataframe\">\n",
       "  <thead>\n",
       "    <tr style=\"text-align: right;\">\n",
       "      <th>parameters</th>\n",
       "      <th>lp__</th>\n",
       "      <th>accept_stat__</th>\n",
       "      <th>stepsize__</th>\n",
       "      <th>treedepth__</th>\n",
       "      <th>n_leapfrog__</th>\n",
       "      <th>divergent__</th>\n",
       "      <th>energy__</th>\n",
       "      <th>m</th>\n",
       "      <th>b</th>\n",
       "      <th>sigma</th>\n",
       "    </tr>\n",
       "    <tr>\n",
       "      <th>draws</th>\n",
       "      <th></th>\n",
       "      <th></th>\n",
       "      <th></th>\n",
       "      <th></th>\n",
       "      <th></th>\n",
       "      <th></th>\n",
       "      <th></th>\n",
       "      <th></th>\n",
       "      <th></th>\n",
       "      <th></th>\n",
       "    </tr>\n",
       "  </thead>\n",
       "  <tbody>\n",
       "    <tr>\n",
       "      <th>0</th>\n",
       "      <td>-27.025086</td>\n",
       "      <td>0.993986</td>\n",
       "      <td>0.290770</td>\n",
       "      <td>4.0</td>\n",
       "      <td>23.0</td>\n",
       "      <td>0.0</td>\n",
       "      <td>28.788396</td>\n",
       "      <td>5.270661</td>\n",
       "      <td>22.114062</td>\n",
       "      <td>11.286140</td>\n",
       "    </tr>\n",
       "    <tr>\n",
       "      <th>1</th>\n",
       "      <td>-27.582881</td>\n",
       "      <td>0.958587</td>\n",
       "      <td>0.340931</td>\n",
       "      <td>3.0</td>\n",
       "      <td>7.0</td>\n",
       "      <td>0.0</td>\n",
       "      <td>27.985964</td>\n",
       "      <td>5.711835</td>\n",
       "      <td>23.346457</td>\n",
       "      <td>12.216973</td>\n",
       "    </tr>\n",
       "    <tr>\n",
       "      <th>2</th>\n",
       "      <td>-31.740084</td>\n",
       "      <td>0.670244</td>\n",
       "      <td>0.303789</td>\n",
       "      <td>4.0</td>\n",
       "      <td>15.0</td>\n",
       "      <td>0.0</td>\n",
       "      <td>33.046740</td>\n",
       "      <td>1.349530</td>\n",
       "      <td>42.969305</td>\n",
       "      <td>16.847142</td>\n",
       "    </tr>\n",
       "    <tr>\n",
       "      <th>3</th>\n",
       "      <td>-29.050886</td>\n",
       "      <td>0.904014</td>\n",
       "      <td>0.319210</td>\n",
       "      <td>3.0</td>\n",
       "      <td>7.0</td>\n",
       "      <td>0.0</td>\n",
       "      <td>30.137474</td>\n",
       "      <td>4.494574</td>\n",
       "      <td>21.340390</td>\n",
       "      <td>19.598356</td>\n",
       "    </tr>\n",
       "    <tr>\n",
       "      <th>4</th>\n",
       "      <td>-28.392551</td>\n",
       "      <td>0.799095</td>\n",
       "      <td>0.290770</td>\n",
       "      <td>4.0</td>\n",
       "      <td>15.0</td>\n",
       "      <td>0.0</td>\n",
       "      <td>29.651920</td>\n",
       "      <td>3.350246</td>\n",
       "      <td>31.371366</td>\n",
       "      <td>15.057828</td>\n",
       "    </tr>\n",
       "    <tr>\n",
       "      <th>...</th>\n",
       "      <td>...</td>\n",
       "      <td>...</td>\n",
       "      <td>...</td>\n",
       "      <td>...</td>\n",
       "      <td>...</td>\n",
       "      <td>...</td>\n",
       "      <td>...</td>\n",
       "      <td>...</td>\n",
       "      <td>...</td>\n",
       "      <td>...</td>\n",
       "    </tr>\n",
       "    <tr>\n",
       "      <th>3995</th>\n",
       "      <td>-28.820107</td>\n",
       "      <td>0.732390</td>\n",
       "      <td>0.319210</td>\n",
       "      <td>3.0</td>\n",
       "      <td>11.0</td>\n",
       "      <td>0.0</td>\n",
       "      <td>35.767806</td>\n",
       "      <td>6.773614</td>\n",
       "      <td>13.688867</td>\n",
       "      <td>12.811978</td>\n",
       "    </tr>\n",
       "    <tr>\n",
       "      <th>3996</th>\n",
       "      <td>-27.007003</td>\n",
       "      <td>0.997446</td>\n",
       "      <td>0.290770</td>\n",
       "      <td>2.0</td>\n",
       "      <td>7.0</td>\n",
       "      <td>0.0</td>\n",
       "      <td>27.332398</td>\n",
       "      <td>4.887964</td>\n",
       "      <td>27.666961</td>\n",
       "      <td>11.766177</td>\n",
       "    </tr>\n",
       "    <tr>\n",
       "      <th>3997</th>\n",
       "      <td>-28.457773</td>\n",
       "      <td>0.537723</td>\n",
       "      <td>0.340931</td>\n",
       "      <td>1.0</td>\n",
       "      <td>1.0</td>\n",
       "      <td>0.0</td>\n",
       "      <td>30.407668</td>\n",
       "      <td>4.739870</td>\n",
       "      <td>19.158628</td>\n",
       "      <td>12.984764</td>\n",
       "    </tr>\n",
       "    <tr>\n",
       "      <th>3998</th>\n",
       "      <td>-28.367225</td>\n",
       "      <td>0.995822</td>\n",
       "      <td>0.303789</td>\n",
       "      <td>3.0</td>\n",
       "      <td>11.0</td>\n",
       "      <td>0.0</td>\n",
       "      <td>29.802418</td>\n",
       "      <td>4.848077</td>\n",
       "      <td>19.474838</td>\n",
       "      <td>16.802087</td>\n",
       "    </tr>\n",
       "    <tr>\n",
       "      <th>3999</th>\n",
       "      <td>-29.722125</td>\n",
       "      <td>0.966136</td>\n",
       "      <td>0.319210</td>\n",
       "      <td>3.0</td>\n",
       "      <td>7.0</td>\n",
       "      <td>0.0</td>\n",
       "      <td>30.277318</td>\n",
       "      <td>7.221423</td>\n",
       "      <td>12.844446</td>\n",
       "      <td>13.519016</td>\n",
       "    </tr>\n",
       "  </tbody>\n",
       "</table>\n",
       "<p>4000 rows × 10 columns</p>\n",
       "</div>"
      ],
      "text/plain": [
       "parameters       lp__  accept_stat__  stepsize__  treedepth__  n_leapfrog__  \\\n",
       "draws                                                                         \n",
       "0          -27.025086       0.993986    0.290770          4.0          23.0   \n",
       "1          -27.582881       0.958587    0.340931          3.0           7.0   \n",
       "2          -31.740084       0.670244    0.303789          4.0          15.0   \n",
       "3          -29.050886       0.904014    0.319210          3.0           7.0   \n",
       "4          -28.392551       0.799095    0.290770          4.0          15.0   \n",
       "...               ...            ...         ...          ...           ...   \n",
       "3995       -28.820107       0.732390    0.319210          3.0          11.0   \n",
       "3996       -27.007003       0.997446    0.290770          2.0           7.0   \n",
       "3997       -28.457773       0.537723    0.340931          1.0           1.0   \n",
       "3998       -28.367225       0.995822    0.303789          3.0          11.0   \n",
       "3999       -29.722125       0.966136    0.319210          3.0           7.0   \n",
       "\n",
       "parameters  divergent__   energy__         m          b      sigma  \n",
       "draws                                                               \n",
       "0                   0.0  28.788396  5.270661  22.114062  11.286140  \n",
       "1                   0.0  27.985964  5.711835  23.346457  12.216973  \n",
       "2                   0.0  33.046740  1.349530  42.969305  16.847142  \n",
       "3                   0.0  30.137474  4.494574  21.340390  19.598356  \n",
       "4                   0.0  29.651920  3.350246  31.371366  15.057828  \n",
       "...                 ...        ...       ...        ...        ...  \n",
       "3995                0.0  35.767806  6.773614  13.688867  12.811978  \n",
       "3996                0.0  27.332398  4.887964  27.666961  11.766177  \n",
       "3997                0.0  30.407668  4.739870  19.158628  12.984764  \n",
       "3998                0.0  29.802418  4.848077  19.474838  16.802087  \n",
       "3999                0.0  30.277318  7.221423  12.844446  13.519016  \n",
       "\n",
       "[4000 rows x 10 columns]"
      ]
     },
     "execution_count": 341,
     "metadata": {},
     "output_type": "execute_result"
    }
   ],
   "source": [
    "df"
   ]
  },
  {
   "cell_type": "code",
   "execution_count": 343,
   "metadata": {},
   "outputs": [
    {
     "data": {
      "image/png": "[encoded data removed]",
      "text/plain": [
       "<Figure size 600x400 with 1 Axes>"
      ]
     },
     "metadata": {
      "needs_background": "light"
     },
     "output_type": "display_data"
    }
   ],
   "source": [
    "x0 = np.linspace(0,40,100)\n",
    "plt.hist(df['m'], histtype='step', bins=20, density=1, color='blue', label='m')\n",
    "plt.axvline(x=m, linestyle='dashed', color='blue')\n",
    "plt.hist(df['b'], histtype='step', bins=20, density=1, color='magenta', label='b')\n",
    "#plt.plot(x0, stats.norm.pdf(x0,10,10), 'm:', label='b-prior')\n",
    "plt.axvline(x=b, linestyle='dashed', color='magenta')\n",
    "plt.legend()\n",
    "plt.show()"
   ]
  },
  {
   "cell_type": "code",
   "execution_count": 344,
   "metadata": {},
   "outputs": [
    {
     "data": {
      "image/png": "[encoded data removed]",
      "text/plain": [
       "<Figure size 600x400 with 1 Axes>"
      ]
     },
     "metadata": {
      "needs_background": "light"
     },
     "output_type": "display_data"
    }
   ],
   "source": [
    "plt.scatter(df['m'],df['b'], s=0.3, color='black')\n",
    "plt.axvline(m, linestyle='dashed', label='m', color='blue')\n",
    "plt.axhline(b, linestyle='dashed', label='b', color='magenta')\n",
    "plt.legend()\n",
    "plt.show()"
   ]
  },
  {
   "cell_type": "markdown",
   "metadata": {
    "jp-MarkdownHeadingCollapsed": true
   },
   "source": [
    "#### Observations and exercises\n",
    "\n",
    "- It makes sense, because of where the datapoints are, that if m decreases then b increases to better fit all the points\n",
    "- Try: using a bad prior on e.g. the b parameter b ~ N(10,10)\n",
    "- Try: plot the prior and verify how the posterior improves\n",
    "- Try: verify that with a large dataset (~100 datapoints) the prior is 'forgotten'\n",
    "- Try: increase the dataset to ~500 and check that convergence to true is retrieved with the correct model"
   ]
  },
  {
   "cell_type": "markdown",
   "metadata": {
    "jp-MarkdownHeadingCollapsed": true
   },
   "source": [
    "### Now Let's try with the biased sample\n",
    "\n",
    "The previous example can be easily solved using least squares obtaining similar results.  However, if the problem gets more involved, we can get more from the Bayesian tools.\n",
    "\n",
    "Let's consider that the measurement on the river's waters is expected to have some bias that depends on the river course.  Closest to the city, the water is less mixed and it is likely that where we take the water sample, is closer to some water flush.  Hence a positive bias is expected at the low x."
   ]
  },
  {
   "cell_type": "code",
   "execution_count": 345,
   "metadata": {},
   "outputs": [],
   "source": [
    "np.random.seed(1)\n",
    "m = 5\n",
    "b = 25\n",
    "noise = 10\n",
    "bias = 20\n",
    "#x = np.random.uniform(0,20,10)\n",
    "x_biased = np.random.uniform(0,20,10)\n",
    "#y = []\n",
    "y_biased = []\n",
    "for i in range(len(x)):\n",
    "    # The bias consists of the noise not being central, but being slightly positive.  How positive? Determined through an exponential in the Normal central value\n",
    "    y_biased.append( m * x_biased[i] + b + np.random.normal(bias*(np.exp(-(x_biased[i])/10)),noise) )    \n"
   ]
  },
  {
   "cell_type": "code",
   "execution_count": 387,
   "metadata": {},
   "outputs": [
    {
     "data": {
      "image/png": "[encoded data removed]",
      "text/plain": [
       "<Figure size 600x400 with 1 Axes>"
      ]
     },
     "metadata": {
      "needs_background": "light"
     },
     "output_type": "display_data"
    }
   ],
   "source": [
    "x0 = np.linspace(0,20,100)\n",
    "plt.scatter(x,y, color = 'blue', label='unbiased')\n",
    "plt.scatter(x_biased,y_biased, color='red', label='biased')\n",
    "plt.plot(x0, m*x0+b, linestyle='dashed')\n",
    "plt.legend()\n",
    "#plt.ylim(0,max(y)*1.10)\n",
    "plt.show()"
   ]
  },
  {
   "cell_type": "code",
   "execution_count": 388,
   "metadata": {},
   "outputs": [],
   "source": [
    "contamination_model_with_bias=\"\"\"\n",
    "data {\n",
    " int <lower=0> N;\n",
    " vector[N] x;\n",
    " vector[N] y;\n",
    " \n",
    "}\n",
    "\n",
    "parameters {\n",
    "  real m;\n",
    "  real b;\n",
    "  real<lower=0> sigma;\n",
    "  real<lower=0> bias;\n",
    "}\n",
    "model {\n",
    "  bias ~ cauchy(0,10);  // we are using a half cauchy because bias >= 0 \n",
    "  // Let's use a 'for' to create the model, which is always more clear!\n",
    "  //for (n in 1:N) {\n",
    "  //  y[n] ~ normal(m * x[n] + b + bias*exp(-x[n]/10), sigma);\n",
    "  //  };\n",
    "   y ~ normal(m * x + b + bias*exp(-x/10), sigma);\n",
    "}\n",
    "\"\"\""
   ]
  },
  {
   "cell_type": "code",
   "execution_count": 389,
   "metadata": {},
   "outputs": [],
   "source": [
    "contamination_data_biased={ 'N': len(x_biased), 'x': x_biased, 'y': y_biased}"
   ]
  },
  {
   "cell_type": "markdown",
   "metadata": {
    "jp-MarkdownHeadingCollapsed": true
   },
   "source": [
    "### Biased data on unbiased model"
   ]
  },
  {
   "cell_type": "code",
   "execution_count": 396,
   "metadata": {},
   "outputs": [
    {
     "name": "stderr",
     "output_type": "stream",
     "text": [
      "\u001b[32mBuilding:\u001b[0m found in cache, done.\n",
      "\u001b[36mMessages from \u001b[0m\u001b[36;1mstanc\u001b[0m\u001b[36m:\u001b[0m\n",
      "Warning: The parameter sigma has no priors. This means either no prior is\n",
      "    provided, or the prior(s) depend on data variables. In the later case,\n",
      "    this may be a false positive.\n",
      "Warning: The parameter m has no priors. This means either no prior is\n",
      "    provided, or the prior(s) depend on data variables. In the later case,\n",
      "    this may be a false positive.\n",
      "Warning: The parameter b has no priors. This means either no prior is\n",
      "    provided, or the prior(s) depend on data variables. In the later case,\n",
      "    this may be a false positive.\n"
     ]
    }
   ],
   "source": [
    "model = stan.build(contamination_model, data=contamination_data_biased, random_seed=1);"
   ]
  },
  {
   "cell_type": "code",
   "execution_count": 397,
   "metadata": {},
   "outputs": [
    {
     "name": "stderr",
     "output_type": "stream",
     "text": [
      "\u001b[36mSampling:\u001b[0m   0%\n",
      "\u001b[1A\u001b[0J\u001b[32mSampling:\u001b[0m 100%, done.\n",
      "\u001b[36mMessages received during sampling:\u001b[0m\n",
      "  Gradient evaluation took 3e-06 seconds\n",
      "  1000 transitions using 10 leapfrog steps per transition would take 0.03 seconds.\n",
      "  Adjust your expectations accordingly!\n",
      "  Gradient evaluation took 2e-06 seconds\n",
      "  1000 transitions using 10 leapfrog steps per transition would take 0.02 seconds.\n",
      "  Adjust your expectations accordingly!\n",
      "  Gradient evaluation took 2e-06 seconds\n",
      "  1000 transitions using 10 leapfrog steps per transition would take 0.02 seconds.\n",
      "  Adjust your expectations accordingly!\n",
      "  Gradient evaluation took 2e-06 seconds\n",
      "  1000 transitions using 10 leapfrog steps per transition would take 0.02 seconds.\n",
      "  Adjust your expectations accordingly!\n"
     ]
    }
   ],
   "source": [
    "fit = model.sample(num_chains=4, num_samples=1000)"
   ]
  },
  {
   "cell_type": "code",
   "execution_count": 398,
   "metadata": {},
   "outputs": [],
   "source": [
    "df = fit.to_frame() "
   ]
  },
  {
   "cell_type": "code",
   "execution_count": 399,
   "metadata": {},
   "outputs": [
    {
     "data": {
      "text/html": [
       "<div>\n",
       "<style scoped>\n",
       "    .dataframe tbody tr th:only-of-type {\n",
       "        vertical-align: middle;\n",
       "    }\n",
       "\n",
       "    .dataframe tbody tr th {\n",
       "        vertical-align: top;\n",
       "    }\n",
       "\n",
       "    .dataframe thead th {\n",
       "        text-align: right;\n",
       "    }\n",
       "</style>\n",
       "<table border=\"1\" class=\"dataframe\">\n",
       "  <thead>\n",
       "    <tr style=\"text-align: right;\">\n",
       "      <th>parameters</th>\n",
       "      <th>lp__</th>\n",
       "      <th>accept_stat__</th>\n",
       "      <th>stepsize__</th>\n",
       "      <th>treedepth__</th>\n",
       "      <th>n_leapfrog__</th>\n",
       "      <th>divergent__</th>\n",
       "      <th>energy__</th>\n",
       "      <th>m</th>\n",
       "      <th>b</th>\n",
       "      <th>sigma</th>\n",
       "    </tr>\n",
       "    <tr>\n",
       "      <th>draws</th>\n",
       "      <th></th>\n",
       "      <th></th>\n",
       "      <th></th>\n",
       "      <th></th>\n",
       "      <th></th>\n",
       "      <th></th>\n",
       "      <th></th>\n",
       "      <th></th>\n",
       "      <th></th>\n",
       "      <th></th>\n",
       "    </tr>\n",
       "  </thead>\n",
       "  <tbody>\n",
       "    <tr>\n",
       "      <th>0</th>\n",
       "      <td>-28.122783</td>\n",
       "      <td>0.991740</td>\n",
       "      <td>0.305083</td>\n",
       "      <td>3.0</td>\n",
       "      <td>15.0</td>\n",
       "      <td>0.0</td>\n",
       "      <td>31.112030</td>\n",
       "      <td>2.772793</td>\n",
       "      <td>51.473215</td>\n",
       "      <td>17.690504</td>\n",
       "    </tr>\n",
       "    <tr>\n",
       "      <th>1</th>\n",
       "      <td>-29.284441</td>\n",
       "      <td>0.997170</td>\n",
       "      <td>0.410830</td>\n",
       "      <td>3.0</td>\n",
       "      <td>7.0</td>\n",
       "      <td>0.0</td>\n",
       "      <td>30.077332</td>\n",
       "      <td>3.065930</td>\n",
       "      <td>52.943997</td>\n",
       "      <td>21.619897</td>\n",
       "    </tr>\n",
       "    <tr>\n",
       "      <th>2</th>\n",
       "      <td>-29.393155</td>\n",
       "      <td>0.970769</td>\n",
       "      <td>0.279963</td>\n",
       "      <td>2.0</td>\n",
       "      <td>7.0</td>\n",
       "      <td>0.0</td>\n",
       "      <td>33.285137</td>\n",
       "      <td>2.026824</td>\n",
       "      <td>62.123807</td>\n",
       "      <td>14.951585</td>\n",
       "    </tr>\n",
       "    <tr>\n",
       "      <th>3</th>\n",
       "      <td>-28.054246</td>\n",
       "      <td>0.999312</td>\n",
       "      <td>0.340533</td>\n",
       "      <td>3.0</td>\n",
       "      <td>7.0</td>\n",
       "      <td>0.0</td>\n",
       "      <td>29.127207</td>\n",
       "      <td>5.181680</td>\n",
       "      <td>32.145157</td>\n",
       "      <td>14.943089</td>\n",
       "    </tr>\n",
       "    <tr>\n",
       "      <th>4</th>\n",
       "      <td>-29.971818</td>\n",
       "      <td>0.872596</td>\n",
       "      <td>0.305083</td>\n",
       "      <td>3.0</td>\n",
       "      <td>7.0</td>\n",
       "      <td>0.0</td>\n",
       "      <td>30.803150</td>\n",
       "      <td>3.530201</td>\n",
       "      <td>34.292909</td>\n",
       "      <td>14.974081</td>\n",
       "    </tr>\n",
       "    <tr>\n",
       "      <th>...</th>\n",
       "      <td>...</td>\n",
       "      <td>...</td>\n",
       "      <td>...</td>\n",
       "      <td>...</td>\n",
       "      <td>...</td>\n",
       "      <td>...</td>\n",
       "      <td>...</td>\n",
       "      <td>...</td>\n",
       "      <td>...</td>\n",
       "      <td>...</td>\n",
       "    </tr>\n",
       "    <tr>\n",
       "      <th>3995</th>\n",
       "      <td>-29.386599</td>\n",
       "      <td>0.827863</td>\n",
       "      <td>0.340533</td>\n",
       "      <td>2.0</td>\n",
       "      <td>3.0</td>\n",
       "      <td>0.0</td>\n",
       "      <td>30.460510</td>\n",
       "      <td>1.554009</td>\n",
       "      <td>55.107185</td>\n",
       "      <td>13.365878</td>\n",
       "    </tr>\n",
       "    <tr>\n",
       "      <th>3996</th>\n",
       "      <td>-26.725042</td>\n",
       "      <td>0.998387</td>\n",
       "      <td>0.305083</td>\n",
       "      <td>2.0</td>\n",
       "      <td>7.0</td>\n",
       "      <td>0.0</td>\n",
       "      <td>27.451599</td>\n",
       "      <td>3.683445</td>\n",
       "      <td>44.712940</td>\n",
       "      <td>12.921641</td>\n",
       "    </tr>\n",
       "    <tr>\n",
       "      <th>3997</th>\n",
       "      <td>-28.313186</td>\n",
       "      <td>0.979851</td>\n",
       "      <td>0.410830</td>\n",
       "      <td>4.0</td>\n",
       "      <td>15.0</td>\n",
       "      <td>0.0</td>\n",
       "      <td>29.820095</td>\n",
       "      <td>2.604221</td>\n",
       "      <td>56.518629</td>\n",
       "      <td>15.875940</td>\n",
       "    </tr>\n",
       "    <tr>\n",
       "      <th>3998</th>\n",
       "      <td>-27.125329</td>\n",
       "      <td>0.989314</td>\n",
       "      <td>0.279963</td>\n",
       "      <td>2.0</td>\n",
       "      <td>3.0</td>\n",
       "      <td>0.0</td>\n",
       "      <td>27.427858</td>\n",
       "      <td>3.724459</td>\n",
       "      <td>40.874724</td>\n",
       "      <td>11.308603</td>\n",
       "    </tr>\n",
       "    <tr>\n",
       "      <th>3999</th>\n",
       "      <td>-30.114817</td>\n",
       "      <td>0.970880</td>\n",
       "      <td>0.340533</td>\n",
       "      <td>3.0</td>\n",
       "      <td>11.0</td>\n",
       "      <td>0.0</td>\n",
       "      <td>32.322045</td>\n",
       "      <td>5.859931</td>\n",
       "      <td>30.767840</td>\n",
       "      <td>23.148371</td>\n",
       "    </tr>\n",
       "  </tbody>\n",
       "</table>\n",
       "<p>4000 rows × 10 columns</p>\n",
       "</div>"
      ],
      "text/plain": [
       "parameters       lp__  accept_stat__  stepsize__  treedepth__  n_leapfrog__  \\\n",
       "draws                                                                         \n",
       "0          -28.122783       0.991740    0.305083          3.0          15.0   \n",
       "1          -29.284441       0.997170    0.410830          3.0           7.0   \n",
       "2          -29.393155       0.970769    0.279963          2.0           7.0   \n",
       "3          -28.054246       0.999312    0.340533          3.0           7.0   \n",
       "4          -29.971818       0.872596    0.305083          3.0           7.0   \n",
       "...               ...            ...         ...          ...           ...   \n",
       "3995       -29.386599       0.827863    0.340533          2.0           3.0   \n",
       "3996       -26.725042       0.998387    0.305083          2.0           7.0   \n",
       "3997       -28.313186       0.979851    0.410830          4.0          15.0   \n",
       "3998       -27.125329       0.989314    0.279963          2.0           3.0   \n",
       "3999       -30.114817       0.970880    0.340533          3.0          11.0   \n",
       "\n",
       "parameters  divergent__   energy__         m          b      sigma  \n",
       "draws                                                               \n",
       "0                   0.0  31.112030  2.772793  51.473215  17.690504  \n",
       "1                   0.0  30.077332  3.065930  52.943997  21.619897  \n",
       "2                   0.0  33.285137  2.026824  62.123807  14.951585  \n",
       "3                   0.0  29.127207  5.181680  32.145157  14.943089  \n",
       "4                   0.0  30.803150  3.530201  34.292909  14.974081  \n",
       "...                 ...        ...       ...        ...        ...  \n",
       "3995                0.0  30.460510  1.554009  55.107185  13.365878  \n",
       "3996                0.0  27.451599  3.683445  44.712940  12.921641  \n",
       "3997                0.0  29.820095  2.604221  56.518629  15.875940  \n",
       "3998                0.0  27.427858  3.724459  40.874724  11.308603  \n",
       "3999                0.0  32.322045  5.859931  30.767840  23.148371  \n",
       "\n",
       "[4000 rows x 10 columns]"
      ]
     },
     "execution_count": 399,
     "metadata": {},
     "output_type": "execute_result"
    }
   ],
   "source": [
    "df"
   ]
  },
  {
   "cell_type": "code",
   "execution_count": 401,
   "metadata": {},
   "outputs": [
    {
     "data": {
      "image/png": "[encoded data removed]",
      "text/plain": [
       "<Figure size 600x400 with 1 Axes>"
      ]
     },
     "metadata": {
      "needs_background": "light"
     },
     "output_type": "display_data"
    }
   ],
   "source": [
    "plt.hist(df['m'], histtype='step', bins=20, density=1, color='blue', label='m')\n",
    "plt.axvline(x=m, linestyle='dashed', color='blue')\n",
    "plt.hist(df['b'], histtype='step', bins=20, density=1, color='magenta', label='b')\n",
    "plt.axvline(x=b, linestyle='dashed', color='magenta')\n",
    "plt.legend()\n",
    "plt.show()"
   ]
  },
  {
   "cell_type": "code",
   "execution_count": 402,
   "metadata": {},
   "outputs": [
    {
     "data": {
      "image/png": "[encoded data removed]",
      "text/plain": [
       "<Figure size 600x400 with 1 Axes>"
      ]
     },
     "metadata": {
      "needs_background": "light"
     },
     "output_type": "display_data"
    }
   ],
   "source": [
    "plt.scatter(df['m'],df['b'], s=0.3, color='black')\n",
    "plt.axvline(m, linestyle='dashed', label='m', color='blue')\n",
    "plt.axhline(b, linestyle='dashed', label='b', color='magenta')\n",
    "plt.legend()\n",
    "plt.show()"
   ]
  },
  {
   "cell_type": "markdown",
   "metadata": {},
   "source": [
    "The small biased introduced because of the measurement close to the town, yields unsatisfactory results.  Let's improve the model"
   ]
  },
  {
   "cell_type": "markdown",
   "metadata": {
    "jp-MarkdownHeadingCollapsed": true
   },
   "source": [
    "### Biased data on model with bias"
   ]
  },
  {
   "cell_type": "code",
   "execution_count": 390,
   "metadata": {},
   "outputs": [
    {
     "name": "stdout",
     "output_type": "stream",
     "text": [
      "\u001b[36mBuilding:\u001b[0m 0.1s\n",
      "\u001b[1A\u001b[0J\u001b[36mBuilding:\u001b[0m 0.2s\n",
      "\u001b[1A\u001b[0J\u001b[36mBuilding:\u001b[0m 0.3s\n",
      "\u001b[1A\u001b[0J\u001b[36mBuilding:\u001b[0m 0.4s\n",
      "\u001b[1A\u001b[0J\u001b[36mBuilding:\u001b[0m 0.5s\n",
      "\u001b[1A\u001b[0J\u001b[36mBuilding:\u001b[0m 0.6s\n",
      "\u001b[1A\u001b[0J\u001b[36mBuilding:\u001b[0m 0.7s\n",
      "\u001b[1A\u001b[0J\u001b[36mBuilding:\u001b[0m 0.8s\n",
      "\u001b[1A\u001b[0J\u001b[36mBuilding:\u001b[0m 0.9s\n",
      "\u001b[1A\u001b[0J\u001b[36mBuilding:\u001b[0m 1.0s\n",
      "\u001b[1A\u001b[0J\u001b[36mBuilding:\u001b[0m 1.1s\n",
      "\u001b[1A\u001b[0J\u001b[36mBuilding:\u001b[0m 1.2s\n",
      "\u001b[1A\u001b[0J\u001b[36mBuilding:\u001b[0m 1.3s\n",
      "\u001b[1A\u001b[0J\u001b[36mBuilding:\u001b[0m 1.4s\n",
      "\u001b[1A\u001b[0J\u001b[36mBuilding:\u001b[0m 1.5s\n",
      "\u001b[1A\u001b[0J\u001b[36mBuilding:\u001b[0m 1.6s\n",
      "\u001b[1A\u001b[0J\u001b[36mBuilding:\u001b[0m 1.7s\n",
      "\u001b[1A\u001b[0J\u001b[36mBuilding:\u001b[0m 1.8s\n",
      "\u001b[1A\u001b[0J\u001b[36mBuilding:\u001b[0m 1.9s\n",
      "\u001b[1A\u001b[0J\u001b[36mBuilding:\u001b[0m 2.0s\n",
      "\u001b[1A\u001b[0J\u001b[36mBuilding:\u001b[0m 2.1s\n",
      "\u001b[1A\u001b[0J\u001b[36mBuilding:\u001b[0m 2.2s\n",
      "\u001b[1A\u001b[0J\u001b[36mBuilding:\u001b[0m 2.3s\n",
      "\u001b[1A\u001b[0J\u001b[36mBuilding:\u001b[0m 2.4s\n",
      "\u001b[1A\u001b[0J\u001b[36mBuilding:\u001b[0m 2.6s\n",
      "\u001b[1A\u001b[0J\u001b[36mBuilding:\u001b[0m 2.7s\n",
      "\u001b[1A\u001b[0J\u001b[36mBuilding:\u001b[0m 2.8s\n",
      "\u001b[1A\u001b[0J\u001b[36mBuilding:\u001b[0m 2.9s\n",
      "\u001b[1A\u001b[0J\u001b[36mBuilding:\u001b[0m 3.0s\n",
      "\u001b[1A\u001b[0J\u001b[36mBuilding:\u001b[0m 3.1s\n",
      "\u001b[1A\u001b[0J\u001b[36mBuilding:\u001b[0m 3.2s\n",
      "\u001b[1A\u001b[0J\u001b[36mBuilding:\u001b[0m 3.3s\n",
      "\u001b[1A\u001b[0J\u001b[36mBuilding:\u001b[0m 3.4s\n",
      "\u001b[1A\u001b[0J\u001b[36mBuilding:\u001b[0m 3.5s\n",
      "\u001b[1A\u001b[0J\u001b[36mBuilding:\u001b[0m 3.6s\n",
      "\u001b[1A\u001b[0J\u001b[36mBuilding:\u001b[0m 3.7s\n",
      "\u001b[1A\u001b[0J\u001b[36mBuilding:\u001b[0m 3.8s\n",
      "\u001b[1A\u001b[0J\u001b[36mBuilding:\u001b[0m 3.9s\n",
      "\u001b[1A\u001b[0J\u001b[36mBuilding:\u001b[0m 4.0s\n",
      "\u001b[1A\u001b[0J\u001b[36mBuilding:\u001b[0m 4.1s\n",
      "\u001b[1A\u001b[0J\u001b[36mBuilding:\u001b[0m 4.2s\n",
      "\u001b[1A\u001b[0J\u001b[36mBuilding:\u001b[0m 4.3s\n",
      "\u001b[1A\u001b[0J\u001b[36mBuilding:\u001b[0m 4.4s\n",
      "\u001b[1A\u001b[0J\u001b[36mBuilding:\u001b[0m 4.5s\n",
      "\u001b[1A\u001b[0J\u001b[36mBuilding:\u001b[0m 4.6s\n",
      "\u001b[1A\u001b[0J\u001b[36mBuilding:\u001b[0m 4.7s\n",
      "\u001b[1A\u001b[0J\u001b[36mBuilding:\u001b[0m 4.8s\n",
      "\u001b[1A\u001b[0J\u001b[36mBuilding:\u001b[0m 4.9s\n",
      "\u001b[1A\u001b[0J\u001b[36mBuilding:\u001b[0m 5.0s\n",
      "\u001b[1A\u001b[0J\u001b[36mBuilding:\u001b[0m 5.1s\n",
      "\u001b[1A\u001b[0J\u001b[36mBuilding:\u001b[0m 5.2s\n",
      "\u001b[1A\u001b[0J\u001b[36mBuilding:\u001b[0m 5.3s\n",
      "\u001b[1A\u001b[0J\u001b[36mBuilding:\u001b[0m 5.4s\n",
      "\u001b[1A\u001b[0J\u001b[36mBuilding:\u001b[0m 5.5s\n",
      "\u001b[1A\u001b[0J\u001b[36mBuilding:\u001b[0m 5.6s\n",
      "\u001b[1A\u001b[0J\u001b[36mBuilding:\u001b[0m 5.7s\n",
      "\u001b[1A\u001b[0J\u001b[36mBuilding:\u001b[0m 5.8s\n",
      "\u001b[1A\u001b[0J\u001b[36mBuilding:\u001b[0m 5.9s\n",
      "\u001b[1A\u001b[0J\u001b[36mBuilding:\u001b[0m 6.0s\n",
      "\u001b[1A\u001b[0J\u001b[36mBuilding:\u001b[0m 6.1s\n",
      "\u001b[1A\u001b[0J\u001b[36mBuilding:\u001b[0m 6.2s\n",
      "\u001b[1A\u001b[0J\u001b[36mBuilding:\u001b[0m 6.3s\n",
      "\u001b[1A\u001b[0J\u001b[36mBuilding:\u001b[0m 6.4s\n",
      "\u001b[1A\u001b[0J\u001b[36mBuilding:\u001b[0m 6.5s\n",
      "\u001b[1A\u001b[0J\u001b[36mBuilding:\u001b[0m 6.6s\n",
      "\u001b[1A\u001b[0J\u001b[36mBuilding:\u001b[0m 6.7s\n",
      "\u001b[1A\u001b[0J\u001b[36mBuilding:\u001b[0m 6.8s\n",
      "\u001b[1A\u001b[0J\u001b[36mBuilding:\u001b[0m 6.9s\n",
      "\u001b[1A\u001b[0J\u001b[36mBuilding:\u001b[0m 7.0s\n",
      "\u001b[1A\u001b[0J\u001b[36mBuilding:\u001b[0m 7.1s\n",
      "\u001b[1A\u001b[0J\u001b[36mBuilding:\u001b[0m 7.2s\n",
      "\u001b[1A\u001b[0J\u001b[36mBuilding:\u001b[0m 7.3s\n",
      "\u001b[1A\u001b[0J\u001b[36mBuilding:\u001b[0m 7.4s\n",
      "\u001b[1A\u001b[0J\u001b[36mBuilding:\u001b[0m 7.5s\n"
     ]
    },
    {
     "name": "stderr",
     "output_type": "stream",
     "text": [
      "In file included from /home/sequi/.local/lib/python3.8/site-packages/httpstan/include/stan/math/prim/fun.hpp:124,\n",
      "                 from /home/sequi/.local/lib/python3.8/site-packages/httpstan/include/stan/math/rev/fun/multiply.hpp:7,\n",
      "                 from /home/sequi/.local/lib/python3.8/site-packages/httpstan/include/stan/math/rev/fun/elt_multiply.hpp:9,\n",
      "                 from /home/sequi/.local/lib/python3.8/site-packages/httpstan/include/stan/math/rev/fun.hpp:55,\n",
      "                 from /home/sequi/.local/lib/python3.8/site-packages/httpstan/include/stan/math/rev.hpp:10,\n",
      "                 from /home/sequi/.local/lib/python3.8/site-packages/httpstan/include/stan/math.hpp:19,\n",
      "                 from /home/sequi/.local/lib/python3.8/site-packages/httpstan/include/stan/model/model_header.hpp:4,\n",
      "                 from /home/sequi/.cache/httpstan/4.10.1/models/dx66igtd/model_dx66igtd.cpp:2:\n",
      "/home/sequi/.local/lib/python3.8/site-packages/httpstan/include/stan/math/prim/fun/grad_2F1.hpp: In instantiation of ‘TupleT stan::math::internal::grad_2F1_impl(const T1&, const T2&, const T3&, const T_z&, double, int) [with bool calc_a1 = true; bool calc_a2 = true; bool calc_b1 = true; bool calc_z = true; T1 = double; T2 = double; T3 = double; T_z = double; ScalarT = double; TupleT = std::tuple<double, double, double, double>]’:\n",
      "/home/sequi/.local/lib/python3.8/site-packages/httpstan/include/stan/math/prim/fun/grad_2F1.hpp:307:57:   required from ‘auto stan::math::grad_2F1(const T1&, const T2&, const T3&, const T_z&, double, int) [with bool ReturnSameT = true; T1 = double; T2 = double; T3 = double; T_z = double; stan::require_t<std::integral_constant<bool, __v> >* <anonymous> = 0]’\n",
      "/home/sequi/.local/lib/python3.8/site-packages/httpstan/include/stan/math/prim/fun/grad_inc_beta.hpp:37:46:   required from here\n",
      "/home/sequi/.local/lib/python3.8/site-packages/httpstan/include/stan/math/prim/fun/grad_2F1.hpp:192:12: warning: unused variable ‘pre_mult’ [-Wunused-variable]\n",
      "  192 |       auto pre_mult = a2 * pow(1 - z, -1 - a2);\n",
      "      |            ^~~~~~~~\n",
      "/home/sequi/.local/lib/python3.8/site-packages/httpstan/include/stan/math/prim/fun/grad_2F1.hpp: In instantiation of ‘TupleT stan::math::internal::grad_2F1_impl(const T1&, const T2&, const T3&, const T_z&, double, int) [with bool calc_a1 = true; bool calc_a2 = true; bool calc_b1 = true; bool calc_z = true; T1 = stan::math::var_value<double>; T2 = stan::math::var_value<double>; T3 = stan::math::var_value<double>; T_z = stan::math::var_value<double>; ScalarT = stan::math::var_value<double>; TupleT = std::tuple<stan::math::var_value<double, void>, stan::math::var_value<double, void>, stan::math::var_value<double, void>, stan::math::var_value<double, void> >]’:\n",
      "/home/sequi/.local/lib/python3.8/site-packages/httpstan/include/stan/math/prim/fun/grad_2F1.hpp:307:57:   required from ‘auto stan::math::grad_2F1(const T1&, const T2&, const T3&, const T_z&, double, int) [with bool ReturnSameT = true; T1 = stan::math::var_value<double>; T2 = stan::math::var_value<double>; T3 = stan::math::var_value<double>; T_z = stan::math::var_value<double>; stan::require_t<std::integral_constant<bool, __v> >* <anonymous> = 0]’\n",
      "/home/sequi/.local/lib/python3.8/site-packages/httpstan/include/stan/math/rev/fun/grad_inc_beta.hpp:49:51:   required from here\n",
      "/home/sequi/.local/lib/python3.8/site-packages/httpstan/include/stan/math/prim/fun/grad_2F1.hpp:192:12: warning: variable ‘pre_mult’ set but not used [-Wunused-but-set-variable]\n"
     ]
    },
    {
     "name": "stdout",
     "output_type": "stream",
     "text": [
      "\u001b[1A\u001b[0J\u001b[36mBuilding:\u001b[0m 7.7s\n",
      "\u001b[1A\u001b[0J\u001b[36mBuilding:\u001b[0m 7.8s\n",
      "\u001b[1A\u001b[0J\u001b[36mBuilding:\u001b[0m 7.9s\n",
      "\u001b[1A\u001b[0J\u001b[36mBuilding:\u001b[0m 8.0s\n"
     ]
    },
    {
     "name": "stderr",
     "output_type": "stream",
     "text": [
      "/home/sequi/.cache/httpstan/4.10.1/models/dx66igtd/model_dx66igtd.cpp: In instantiation of ‘void model_dx66igtd_namespace::model_dx66igtd::transform_inits_impl(const stan::io::var_context&, VecVar&, std::ostream*) const [with VecVar = std::vector<double, std::allocator<double> >; stan::require_vector_t<T_y>* <anonymous> = 0; std::ostream = std::basic_ostream<char>]’:\n",
      "/home/sequi/.cache/httpstan/4.10.1/models/dx66igtd/model_dx66igtd.cpp:413:50:   required from here\n",
      "/home/sequi/.cache/httpstan/4.10.1/models/dx66igtd/model_dx66igtd.cpp:286:11: warning: variable ‘pos__’ set but not used [-Wunused-but-set-variable]\n",
      "  286 |       int pos__ = std::numeric_limits<int>::min();\n",
      "      |           ^~~~~\n",
      "/home/sequi/.cache/httpstan/4.10.1/models/dx66igtd/model_dx66igtd.cpp: In instantiation of ‘void model_dx66igtd_namespace::model_dx66igtd::unconstrain_array_impl(const VecVar&, const VecI&, VecVar&, std::ostream*) const [with VecVar = std::vector<double, std::allocator<double> >; VecI = std::vector<int>; stan::require_vector_t<T_y>* <anonymous> = 0; stan::require_vector_like_vt<std::is_integral, VecI>* <anonymous> = 0; std::ostream = std::basic_ostream<char>]’:\n",
      "/home/sequi/.cache/httpstan/4.10.1/models/dx66igtd/model_dx66igtd.cpp:423:36:   required from here\n",
      "/home/sequi/.cache/httpstan/4.10.1/models/dx66igtd/model_dx66igtd.cpp:241:11: warning: variable ‘pos__’ set but not used [-Wunused-but-set-variable]\n",
      "  241 |       int pos__ = std::numeric_limits<int>::min();\n",
      "      |           ^~~~~\n",
      "/home/sequi/.cache/httpstan/4.10.1/models/dx66igtd/model_dx66igtd.cpp: In instantiation of ‘void model_dx66igtd_namespace::model_dx66igtd::unconstrain_array_impl(const VecVar&, const VecI&, VecVar&, std::ostream*) const [with VecVar = Eigen::Matrix<double, -1, 1>; VecI = std::vector<int>; stan::require_vector_t<T_y>* <anonymous> = 0; stan::require_vector_like_vt<std::is_integral, VecI>* <anonymous> = 0; std::ostream = std::basic_ostream<char>]’:\n",
      "/home/sequi/.cache/httpstan/4.10.1/models/dx66igtd/model_dx66igtd.cpp:433:36:   required from here\n",
      "/home/sequi/.cache/httpstan/4.10.1/models/dx66igtd/model_dx66igtd.cpp:241:11: warning: variable ‘pos__’ set but not used [-Wunused-but-set-variable]\n",
      "In file included from /home/sequi/.local/lib/python3.8/site-packages/httpstan/include/stan/math/prim/fun.hpp:124,\n",
      "                 from /home/sequi/.local/lib/python3.8/site-packages/httpstan/include/stan/math/rev/fun/multiply.hpp:7,\n",
      "                 from /home/sequi/.local/lib/python3.8/site-packages/httpstan/include/stan/math/rev/fun/elt_multiply.hpp:9,\n",
      "                 from /home/sequi/.local/lib/python3.8/site-packages/httpstan/include/stan/math/rev/fun.hpp:55,\n",
      "                 from /home/sequi/.local/lib/python3.8/site-packages/httpstan/include/stan/math/rev.hpp:10,\n",
      "                 from /home/sequi/.local/lib/python3.8/site-packages/httpstan/include/stan/math.hpp:19,\n",
      "                 from /home/sequi/.local/lib/python3.8/site-packages/httpstan/include/stan/model/model_header.hpp:4,\n",
      "                 from /home/sequi/.cache/httpstan/4.10.1/models/dx66igtd/model_dx66igtd.cpp:2:\n",
      "/home/sequi/.local/lib/python3.8/site-packages/httpstan/include/stan/math/prim/fun/grad_2F1.hpp: In instantiation of ‘TupleT stan::math::internal::grad_2F1_impl_ab(const T1&, const T2&, const T3&, const T_z&, double, int) [with bool calc_a1 = true; bool calc_a2 = true; bool calc_b1 = true; T1 = double; T2 = double; T3 = double; T_z = double; ScalarT = double; TupleT = std::tuple<double, double, double>]’:\n",
      "/home/sequi/.local/lib/python3.8/site-packages/httpstan/include/stan/math/prim/fun/grad_2F1.hpp:205:78:   required from ‘TupleT stan::math::internal::grad_2F1_impl(const T1&, const T2&, const T3&, const T_z&, double, int) [with bool calc_a1 = true; bool calc_a2 = true; bool calc_b1 = true; bool calc_z = true; T1 = double; T2 = double; T3 = double; T_z = double; ScalarT = double; TupleT = std::tuple<double, double, double, double>]’\n",
      "/home/sequi/.local/lib/python3.8/site-packages/httpstan/include/stan/math/prim/fun/grad_2F1.hpp:307:57:   required from ‘auto stan::math::grad_2F1(const T1&, const T2&, const T3&, const T_z&, double, int) [with bool ReturnSameT = true; T1 = double; T2 = double; T3 = double; T_z = double; stan::require_t<std::integral_constant<bool, __v> >* <anonymous> = 0]’\n",
      "/home/sequi/.local/lib/python3.8/site-packages/httpstan/include/stan/math/prim/fun/grad_inc_beta.hpp:37:46:   required from here\n",
      "/home/sequi/.local/lib/python3.8/site-packages/httpstan/include/stan/math/prim/fun/grad_2F1.hpp:68:10: warning: unused variable ‘log_precision’ [-Wunused-variable]\n",
      "   68 |   double log_precision = log(precision);\n",
      "      |          ^~~~~~~~~~~~~\n",
      "/home/sequi/.local/lib/python3.8/site-packages/httpstan/include/stan/math/prim/fun/grad_2F1.hpp: In instantiation of ‘TupleT stan::math::internal::grad_2F1_impl_ab(const T1&, const T2&, const T3&, const T_z&, double, int) [with bool calc_a1 = true; bool calc_a2 = true; bool calc_b1 = true; T1 = stan::math::var_value<double>; T2 = stan::math::var_value<double>; T3 = stan::math::var_value<double>; T_z = stan::math::var_value<double>; ScalarT = stan::math::var_value<double>; TupleT = std::tuple<stan::math::var_value<double, void>, stan::math::var_value<double, void>, stan::math::var_value<double, void> >]’:\n",
      "/home/sequi/.local/lib/python3.8/site-packages/httpstan/include/stan/math/prim/fun/grad_2F1.hpp:205:78:   required from ‘TupleT stan::math::internal::grad_2F1_impl(const T1&, const T2&, const T3&, const T_z&, double, int) [with bool calc_a1 = true; bool calc_a2 = true; bool calc_b1 = true; bool calc_z = true; T1 = stan::math::var_value<double>; T2 = stan::math::var_value<double>; T3 = stan::math::var_value<double>; T_z = stan::math::var_value<double>; ScalarT = stan::math::var_value<double>; TupleT = std::tuple<stan::math::var_value<double, void>, stan::math::var_value<double, void>, stan::math::var_value<double, void>, stan::math::var_value<double, void> >]’\n",
      "/home/sequi/.local/lib/python3.8/site-packages/httpstan/include/stan/math/prim/fun/grad_2F1.hpp:307:57:   required from ‘auto stan::math::grad_2F1(const T1&, const T2&, const T3&, const T_z&, double, int) [with bool ReturnSameT = true; T1 = stan::math::var_value<double>; T2 = stan::math::var_value<double>; T3 = stan::math::var_value<double>; T_z = stan::math::var_value<double>; stan::require_t<std::integral_constant<bool, __v> >* <anonymous> = 0]’\n",
      "/home/sequi/.local/lib/python3.8/site-packages/httpstan/include/stan/math/rev/fun/grad_inc_beta.hpp:49:51:   required from here\n",
      "/home/sequi/.local/lib/python3.8/site-packages/httpstan/include/stan/math/prim/fun/grad_2F1.hpp:68:10: warning: unused variable ‘log_precision’ [-Wunused-variable]\n"
     ]
    },
    {
     "name": "stdout",
     "output_type": "stream",
     "text": [
      "\u001b[1A\u001b[0J\u001b[36mBuilding:\u001b[0m 8.1s\n",
      "\u001b[1A\u001b[0J\u001b[36mBuilding:\u001b[0m 8.2s\n",
      "\u001b[1A\u001b[0J\u001b[36mBuilding:\u001b[0m 8.3s\n",
      "\u001b[1A\u001b[0J\u001b[36mBuilding:\u001b[0m 8.4s\n",
      "\u001b[1A\u001b[0J\u001b[36mBuilding:\u001b[0m 8.5s\n",
      "\u001b[1A\u001b[0J\u001b[36mBuilding:\u001b[0m 8.6s\n",
      "\u001b[1A\u001b[0J\u001b[36mBuilding:\u001b[0m 8.7s\n",
      "\u001b[1A\u001b[0J\u001b[36mBuilding:\u001b[0m 8.8s\n",
      "\u001b[1A\u001b[0J\u001b[36mBuilding:\u001b[0m 8.9s\n",
      "\u001b[1A\u001b[0J\u001b[36mBuilding:\u001b[0m 9.0s\n",
      "\u001b[1A\u001b[0J\u001b[36mBuilding:\u001b[0m 9.1s\n",
      "\u001b[1A\u001b[0J\u001b[36mBuilding:\u001b[0m 9.2s\n",
      "\u001b[1A\u001b[0J\u001b[36mBuilding:\u001b[0m 9.3s\n",
      "\u001b[1A\u001b[0J\u001b[36mBuilding:\u001b[0m 9.4s\n",
      "\u001b[1A\u001b[0J\u001b[36mBuilding:\u001b[0m 9.5s\n",
      "\u001b[1A\u001b[0J\u001b[36mBuilding:\u001b[0m 9.6s\n",
      "\u001b[1A\u001b[0J\u001b[36mBuilding:\u001b[0m 9.7s\n",
      "\u001b[1A\u001b[0J\u001b[36mBuilding:\u001b[0m 9.8s\n",
      "\u001b[1A\u001b[0J\u001b[36mBuilding:\u001b[0m 9.9s\n",
      "\u001b[1A\u001b[0J\u001b[36mBuilding:\u001b[0m 10.0s\n",
      "\u001b[1A\u001b[0J\u001b[36mBuilding:\u001b[0m 10.1s\n",
      "\u001b[1A\u001b[0J\u001b[36mBuilding:\u001b[0m 10.2s\n",
      "\u001b[1A\u001b[0J\u001b[36mBuilding:\u001b[0m 10.3s\n",
      "\u001b[1A\u001b[0J\u001b[36mBuilding:\u001b[0m 10.4s\n",
      "\u001b[1A\u001b[0J\u001b[36mBuilding:\u001b[0m 10.5s\n",
      "\u001b[1A\u001b[0J\u001b[36mBuilding:\u001b[0m 10.6s\n",
      "\u001b[1A\u001b[0J\u001b[36mBuilding:\u001b[0m 10.7s\n",
      "\u001b[1A\u001b[0J\u001b[36mBuilding:\u001b[0m 10.8s\n",
      "\u001b[1A\u001b[0J\u001b[36mBuilding:\u001b[0m 10.9s\n",
      "\u001b[1A\u001b[0J\u001b[36mBuilding:\u001b[0m 11.0s\n",
      "\u001b[1A\u001b[0J\u001b[36mBuilding:\u001b[0m 11.1s\n",
      "\u001b[1A\u001b[0J\u001b[36mBuilding:\u001b[0m 11.2s\n",
      "\u001b[1A\u001b[0J\u001b[36mBuilding:\u001b[0m 11.3s\n",
      "\u001b[1A\u001b[0J\u001b[36mBuilding:\u001b[0m 11.4s\n",
      "\u001b[1A\u001b[0J\u001b[36mBuilding:\u001b[0m 11.5s\n",
      "\u001b[1A\u001b[0J\u001b[36mBuilding:\u001b[0m 11.6s\n",
      "\u001b[1A\u001b[0J\u001b[36mBuilding:\u001b[0m 11.7s\n",
      "\u001b[1A\u001b[0J\u001b[36mBuilding:\u001b[0m 11.8s\n",
      "\u001b[1A\u001b[0J\u001b[36mBuilding:\u001b[0m 11.9s\n",
      "\u001b[1A\u001b[0J\u001b[36mBuilding:\u001b[0m 12.0s\n",
      "\u001b[1A\u001b[0J\u001b[36mBuilding:\u001b[0m 12.1s\n",
      "\u001b[1A\u001b[0J\u001b[36mBuilding:\u001b[0m 12.2s\n",
      "\u001b[1A\u001b[0J\u001b[36mBuilding:\u001b[0m 12.3s\n",
      "\u001b[1A\u001b[0J\u001b[36mBuilding:\u001b[0m 12.4s\n",
      "\u001b[1A\u001b[0J\u001b[36mBuilding:\u001b[0m 12.5s\n",
      "\u001b[1A\u001b[0J\u001b[36mBuilding:\u001b[0m 12.6s\n",
      "\u001b[1A\u001b[0J\u001b[36mBuilding:\u001b[0m 12.8s\n",
      "\u001b[1A\u001b[0J\u001b[36mBuilding:\u001b[0m 12.9s\n",
      "\u001b[1A\u001b[0J\u001b[36mBuilding:\u001b[0m 13.0s\n",
      "\u001b[1A\u001b[0J\u001b[36mBuilding:\u001b[0m 13.1s\n",
      "\u001b[1A\u001b[0J\u001b[36mBuilding:\u001b[0m 13.2s\n",
      "\u001b[1A\u001b[0J\u001b[36mBuilding:\u001b[0m 13.3s\n",
      "\u001b[1A\u001b[0J\u001b[36mBuilding:\u001b[0m 13.4s\n",
      "\u001b[1A\u001b[0J\u001b[36mBuilding:\u001b[0m 13.5s\n",
      "\u001b[1A\u001b[0J\u001b[36mBuilding:\u001b[0m 13.6s\n",
      "\u001b[1A\u001b[0J\u001b[36mBuilding:\u001b[0m 13.7s\n",
      "\u001b[1A\u001b[0J\u001b[36mBuilding:\u001b[0m 13.8s\n",
      "\u001b[1A\u001b[0J\u001b[36mBuilding:\u001b[0m 13.9s\n",
      "\u001b[1A\u001b[0J\u001b[36mBuilding:\u001b[0m 14.0s\n",
      "\u001b[1A\u001b[0J\u001b[36mBuilding:\u001b[0m 14.1s\n",
      "\u001b[1A\u001b[0J\u001b[36mBuilding:\u001b[0m 14.2s\n",
      "\u001b[1A\u001b[0J\u001b[36mBuilding:\u001b[0m 14.3s\n",
      "\u001b[1A\u001b[0J\u001b[36mBuilding:\u001b[0m 14.4s\n",
      "\u001b[1A\u001b[0J\u001b[36mBuilding:\u001b[0m 14.5s\n",
      "\u001b[1A\u001b[0J\u001b[36mBuilding:\u001b[0m 14.6s\n",
      "\u001b[1A\u001b[0J\u001b[36mBuilding:\u001b[0m 14.7s\n",
      "\u001b[1A\u001b[0J\u001b[36mBuilding:\u001b[0m 14.8s\n",
      "\u001b[1A\u001b[0J\u001b[36mBuilding:\u001b[0m 14.9s\n",
      "\u001b[1A\u001b[0J\u001b[36mBuilding:\u001b[0m 15.0s\n",
      "\u001b[1A\u001b[0J\u001b[36mBuilding:\u001b[0m 15.1s\n",
      "\u001b[1A\u001b[0J\u001b[36mBuilding:\u001b[0m 15.2s\n",
      "\u001b[1A\u001b[0J\u001b[36mBuilding:\u001b[0m 15.3s\n",
      "\u001b[1A\u001b[0J\u001b[36mBuilding:\u001b[0m 15.4s\n",
      "\u001b[1A\u001b[0J\u001b[36mBuilding:\u001b[0m 15.5s\n",
      "\u001b[1A\u001b[0J\u001b[36mBuilding:\u001b[0m 15.6s\n",
      "\u001b[1A\u001b[0J\u001b[36mBuilding:\u001b[0m 15.7s\n",
      "\u001b[1A\u001b[0J\u001b[36mBuilding:\u001b[0m 15.8s\n",
      "\u001b[1A\u001b[0J\u001b[36mBuilding:\u001b[0m 15.9s\n",
      "\u001b[1A\u001b[0J\u001b[36mBuilding:\u001b[0m 16.0s\n",
      "\u001b[1A\u001b[0J\u001b[36mBuilding:\u001b[0m 16.1s\n",
      "\u001b[1A\u001b[0J\u001b[36mBuilding:\u001b[0m 16.2s\n",
      "\u001b[1A\u001b[0J\u001b[36mBuilding:\u001b[0m 16.3s\n",
      "\u001b[1A\u001b[0J\u001b[36mBuilding:\u001b[0m 16.4s\n",
      "\u001b[1A\u001b[0J\u001b[36mBuilding:\u001b[0m 16.5s\n",
      "\u001b[1A\u001b[0J\u001b[36mBuilding:\u001b[0m 16.6s\n",
      "\u001b[1A\u001b[0J\u001b[36mBuilding:\u001b[0m 16.7s\n",
      "\u001b[1A\u001b[0J\u001b[36mBuilding:\u001b[0m 16.8s\n",
      "\u001b[1A\u001b[0J\u001b[36mBuilding:\u001b[0m 16.9s\n",
      "\u001b[1A\u001b[0J\u001b[36mBuilding:\u001b[0m 17.0s\n",
      "\u001b[1A\u001b[0J\u001b[36mBuilding:\u001b[0m 17.1s\n",
      "\u001b[1A\u001b[0J\u001b[36mBuilding:\u001b[0m 17.2s\n",
      "\u001b[1A\u001b[0J\u001b[36mBuilding:\u001b[0m 17.3s\n",
      "\u001b[1A\u001b[0J\u001b[36mBuilding:\u001b[0m 17.4s\n",
      "\u001b[1A\u001b[0J\u001b[36mBuilding:\u001b[0m 17.5s\n",
      "\u001b[1A\u001b[0J\u001b[36mBuilding:\u001b[0m 17.6s\n",
      "\u001b[1A\u001b[0J\u001b[36mBuilding:\u001b[0m 17.7s\n",
      "\u001b[1A\u001b[0J\u001b[36mBuilding:\u001b[0m 17.9s\n",
      "\u001b[1A\u001b[0J\u001b[36mBuilding:\u001b[0m 18.0s\n",
      "\u001b[1A\u001b[0J\u001b[36mBuilding:\u001b[0m 18.1s\n",
      "\u001b[1A\u001b[0J\u001b[36mBuilding:\u001b[0m 18.2s\n",
      "\u001b[1A\u001b[0J\u001b[36mBuilding:\u001b[0m 18.3s\n",
      "\u001b[1A\u001b[0J\u001b[36mBuilding:\u001b[0m 18.4s\n",
      "\u001b[1A\u001b[0J\u001b[36mBuilding:\u001b[0m 18.5s\n",
      "\u001b[1A\u001b[0J\u001b[36mBuilding:\u001b[0m 18.6s\n",
      "\u001b[1A\u001b[0J\u001b[36mBuilding:\u001b[0m 18.7s\n",
      "\u001b[1A\u001b[0J"
     ]
    },
    {
     "name": "stderr",
     "output_type": "stream",
     "text": [
      "\u001b[32mBuilding:\u001b[0m 18.7s, done.\n",
      "\u001b[36mMessages from \u001b[0m\u001b[36;1mstanc\u001b[0m\u001b[36m:\u001b[0m\n",
      "Warning: The parameter sigma has no priors. This means either no prior is\n",
      "    provided, or the prior(s) depend on data variables. In the later case,\n",
      "    this may be a false positive.\n",
      "Warning: The parameter m has no priors. This means either no prior is\n",
      "    provided, or the prior(s) depend on data variables. In the later case,\n",
      "    this may be a false positive.\n",
      "Warning: The parameter b has no priors. This means either no prior is\n",
      "    provided, or the prior(s) depend on data variables. In the later case,\n",
      "    this may be a false positive.\n"
     ]
    }
   ],
   "source": [
    "model = stan.build(contamination_model_with_bias, data=contamination_data_biased, random_seed=1);"
   ]
  },
  {
   "cell_type": "code",
   "execution_count": 391,
   "metadata": {},
   "outputs": [
    {
     "name": "stderr",
     "output_type": "stream",
     "text": [
      "\u001b[36mSampling:\u001b[0m   0%\n",
      "\u001b[1A\u001b[0J\u001b[36mSampling:\u001b[0m  25% (2000/8000)\n",
      "\u001b[1A\u001b[0J\u001b[36mSampling:\u001b[0m  50% (4000/8000)\n",
      "\u001b[1A\u001b[0J\u001b[36mSampling:\u001b[0m  75% (6000/8000)\n",
      "\u001b[1A\u001b[0J\u001b[36mSampling:\u001b[0m 100% (8000/8000)\n",
      "\u001b[1A\u001b[0J\u001b[32mSampling:\u001b[0m 100% (8000/8000), done.\n",
      "\u001b[36mMessages received during sampling:\u001b[0m\n",
      "  Gradient evaluation took 6e-06 seconds\n",
      "  1000 transitions using 10 leapfrog steps per transition would take 0.06 seconds.\n",
      "  Adjust your expectations accordingly!\n",
      "  Gradient evaluation took 5e-06 seconds\n",
      "  1000 transitions using 10 leapfrog steps per transition would take 0.05 seconds.\n",
      "  Adjust your expectations accordingly!\n",
      "  Informational Message: The current Metropolis proposal is about to be rejected because of the following issue:\n",
      "  Exception: normal_lpdf: Location parameter[1] is inf, but must be finite! (in '/tmp/httpstan_dfhjlmxp/model_dx66igtd.stan', line 21, column 3 to column 50)\n",
      "  If this warning occurs sporadically, such as for highly constrained variable types like covariance matrices, then the sampler is fine,\n",
      "  but if this warning occurs often then your model may be either severely ill-conditioned or misspecified.\n",
      "  Gradient evaluation took 5e-06 seconds\n",
      "  1000 transitions using 10 leapfrog steps per transition would take 0.05 seconds.\n",
      "  Adjust your expectations accordingly!\n",
      "  Gradient evaluation took 5e-06 seconds\n",
      "  1000 transitions using 10 leapfrog steps per transition would take 0.05 seconds.\n",
      "  Adjust your expectations accordingly!\n"
     ]
    }
   ],
   "source": [
    "fit = model.sample(num_chains=4, num_samples=1000)"
   ]
  },
  {
   "cell_type": "code",
   "execution_count": 392,
   "metadata": {},
   "outputs": [],
   "source": [
    "df = fit.to_frame() "
   ]
  },
  {
   "cell_type": "code",
   "execution_count": 393,
   "metadata": {},
   "outputs": [
    {
     "data": {
      "text/html": [
       "<div>\n",
       "<style scoped>\n",
       "    .dataframe tbody tr th:only-of-type {\n",
       "        vertical-align: middle;\n",
       "    }\n",
       "\n",
       "    .dataframe tbody tr th {\n",
       "        vertical-align: top;\n",
       "    }\n",
       "\n",
       "    .dataframe thead th {\n",
       "        text-align: right;\n",
       "    }\n",
       "</style>\n",
       "<table border=\"1\" class=\"dataframe\">\n",
       "  <thead>\n",
       "    <tr style=\"text-align: right;\">\n",
       "      <th>parameters</th>\n",
       "      <th>lp__</th>\n",
       "      <th>accept_stat__</th>\n",
       "      <th>stepsize__</th>\n",
       "      <th>treedepth__</th>\n",
       "      <th>n_leapfrog__</th>\n",
       "      <th>divergent__</th>\n",
       "      <th>energy__</th>\n",
       "      <th>m</th>\n",
       "      <th>b</th>\n",
       "      <th>sigma</th>\n",
       "      <th>bias</th>\n",
       "    </tr>\n",
       "    <tr>\n",
       "      <th>draws</th>\n",
       "      <th></th>\n",
       "      <th></th>\n",
       "      <th></th>\n",
       "      <th></th>\n",
       "      <th></th>\n",
       "      <th></th>\n",
       "      <th></th>\n",
       "      <th></th>\n",
       "      <th></th>\n",
       "      <th></th>\n",
       "      <th></th>\n",
       "    </tr>\n",
       "  </thead>\n",
       "  <tbody>\n",
       "    <tr>\n",
       "      <th>0</th>\n",
       "      <td>-29.142961</td>\n",
       "      <td>0.989596</td>\n",
       "      <td>0.215127</td>\n",
       "      <td>3.0</td>\n",
       "      <td>15.0</td>\n",
       "      <td>0.0</td>\n",
       "      <td>31.876751</td>\n",
       "      <td>3.564791</td>\n",
       "      <td>50.872661</td>\n",
       "      <td>20.682922</td>\n",
       "      <td>12.215916</td>\n",
       "    </tr>\n",
       "    <tr>\n",
       "      <th>1</th>\n",
       "      <td>-26.166020</td>\n",
       "      <td>0.988432</td>\n",
       "      <td>0.198403</td>\n",
       "      <td>3.0</td>\n",
       "      <td>15.0</td>\n",
       "      <td>0.0</td>\n",
       "      <td>27.290850</td>\n",
       "      <td>4.595152</td>\n",
       "      <td>34.725209</td>\n",
       "      <td>13.300759</td>\n",
       "      <td>2.967889</td>\n",
       "    </tr>\n",
       "    <tr>\n",
       "      <th>2</th>\n",
       "      <td>-33.559824</td>\n",
       "      <td>0.984651</td>\n",
       "      <td>0.154522</td>\n",
       "      <td>2.0</td>\n",
       "      <td>3.0</td>\n",
       "      <td>0.0</td>\n",
       "      <td>33.744344</td>\n",
       "      <td>4.479827</td>\n",
       "      <td>16.504221</td>\n",
       "      <td>24.088299</td>\n",
       "      <td>1.588928</td>\n",
       "    </tr>\n",
       "    <tr>\n",
       "      <th>3</th>\n",
       "      <td>-29.682913</td>\n",
       "      <td>1.000000</td>\n",
       "      <td>0.282576</td>\n",
       "      <td>3.0</td>\n",
       "      <td>15.0</td>\n",
       "      <td>0.0</td>\n",
       "      <td>30.317206</td>\n",
       "      <td>2.893629</td>\n",
       "      <td>31.608615</td>\n",
       "      <td>22.550965</td>\n",
       "      <td>8.318644</td>\n",
       "    </tr>\n",
       "    <tr>\n",
       "      <th>4</th>\n",
       "      <td>-28.250754</td>\n",
       "      <td>0.916895</td>\n",
       "      <td>0.215127</td>\n",
       "      <td>4.0</td>\n",
       "      <td>15.0</td>\n",
       "      <td>0.0</td>\n",
       "      <td>30.848788</td>\n",
       "      <td>3.529484</td>\n",
       "      <td>42.352193</td>\n",
       "      <td>10.709011</td>\n",
       "      <td>0.340486</td>\n",
       "    </tr>\n",
       "    <tr>\n",
       "      <th>...</th>\n",
       "      <td>...</td>\n",
       "      <td>...</td>\n",
       "      <td>...</td>\n",
       "      <td>...</td>\n",
       "      <td>...</td>\n",
       "      <td>...</td>\n",
       "      <td>...</td>\n",
       "      <td>...</td>\n",
       "      <td>...</td>\n",
       "      <td>...</td>\n",
       "      <td>...</td>\n",
       "    </tr>\n",
       "    <tr>\n",
       "      <th>3995</th>\n",
       "      <td>-29.761404</td>\n",
       "      <td>0.998325</td>\n",
       "      <td>0.282576</td>\n",
       "      <td>3.0</td>\n",
       "      <td>7.0</td>\n",
       "      <td>0.0</td>\n",
       "      <td>34.987692</td>\n",
       "      <td>1.700621</td>\n",
       "      <td>46.189500</td>\n",
       "      <td>24.454997</td>\n",
       "      <td>4.907393</td>\n",
       "    </tr>\n",
       "    <tr>\n",
       "      <th>3996</th>\n",
       "      <td>-28.976229</td>\n",
       "      <td>0.994587</td>\n",
       "      <td>0.215127</td>\n",
       "      <td>4.0</td>\n",
       "      <td>15.0</td>\n",
       "      <td>0.0</td>\n",
       "      <td>30.832457</td>\n",
       "      <td>7.153527</td>\n",
       "      <td>14.054596</td>\n",
       "      <td>22.350699</td>\n",
       "      <td>23.232026</td>\n",
       "    </tr>\n",
       "    <tr>\n",
       "      <th>3997</th>\n",
       "      <td>-28.956073</td>\n",
       "      <td>1.000000</td>\n",
       "      <td>0.198403</td>\n",
       "      <td>4.0</td>\n",
       "      <td>15.0</td>\n",
       "      <td>0.0</td>\n",
       "      <td>33.689201</td>\n",
       "      <td>6.677141</td>\n",
       "      <td>13.124093</td>\n",
       "      <td>24.293517</td>\n",
       "      <td>17.316027</td>\n",
       "    </tr>\n",
       "    <tr>\n",
       "      <th>3998</th>\n",
       "      <td>-28.014327</td>\n",
       "      <td>0.993657</td>\n",
       "      <td>0.154522</td>\n",
       "      <td>4.0</td>\n",
       "      <td>31.0</td>\n",
       "      <td>0.0</td>\n",
       "      <td>30.699223</td>\n",
       "      <td>4.954798</td>\n",
       "      <td>33.541730</td>\n",
       "      <td>16.843604</td>\n",
       "      <td>1.072815</td>\n",
       "    </tr>\n",
       "    <tr>\n",
       "      <th>3999</th>\n",
       "      <td>-28.170210</td>\n",
       "      <td>0.927922</td>\n",
       "      <td>0.282576</td>\n",
       "      <td>3.0</td>\n",
       "      <td>11.0</td>\n",
       "      <td>0.0</td>\n",
       "      <td>31.436419</td>\n",
       "      <td>3.711807</td>\n",
       "      <td>49.133139</td>\n",
       "      <td>16.956856</td>\n",
       "      <td>10.446260</td>\n",
       "    </tr>\n",
       "  </tbody>\n",
       "</table>\n",
       "<p>4000 rows × 11 columns</p>\n",
       "</div>"
      ],
      "text/plain": [
       "parameters       lp__  accept_stat__  stepsize__  treedepth__  n_leapfrog__  \\\n",
       "draws                                                                         \n",
       "0          -29.142961       0.989596    0.215127          3.0          15.0   \n",
       "1          -26.166020       0.988432    0.198403          3.0          15.0   \n",
       "2          -33.559824       0.984651    0.154522          2.0           3.0   \n",
       "3          -29.682913       1.000000    0.282576          3.0          15.0   \n",
       "4          -28.250754       0.916895    0.215127          4.0          15.0   \n",
       "...               ...            ...         ...          ...           ...   \n",
       "3995       -29.761404       0.998325    0.282576          3.0           7.0   \n",
       "3996       -28.976229       0.994587    0.215127          4.0          15.0   \n",
       "3997       -28.956073       1.000000    0.198403          4.0          15.0   \n",
       "3998       -28.014327       0.993657    0.154522          4.0          31.0   \n",
       "3999       -28.170210       0.927922    0.282576          3.0          11.0   \n",
       "\n",
       "parameters  divergent__   energy__         m          b      sigma       bias  \n",
       "draws                                                                          \n",
       "0                   0.0  31.876751  3.564791  50.872661  20.682922  12.215916  \n",
       "1                   0.0  27.290850  4.595152  34.725209  13.300759   2.967889  \n",
       "2                   0.0  33.744344  4.479827  16.504221  24.088299   1.588928  \n",
       "3                   0.0  30.317206  2.893629  31.608615  22.550965   8.318644  \n",
       "4                   0.0  30.848788  3.529484  42.352193  10.709011   0.340486  \n",
       "...                 ...        ...       ...        ...        ...        ...  \n",
       "3995                0.0  34.987692  1.700621  46.189500  24.454997   4.907393  \n",
       "3996                0.0  30.832457  7.153527  14.054596  22.350699  23.232026  \n",
       "3997                0.0  33.689201  6.677141  13.124093  24.293517  17.316027  \n",
       "3998                0.0  30.699223  4.954798  33.541730  16.843604   1.072815  \n",
       "3999                0.0  31.436419  3.711807  49.133139  16.956856  10.446260  \n",
       "\n",
       "[4000 rows x 11 columns]"
      ]
     },
     "execution_count": 393,
     "metadata": {},
     "output_type": "execute_result"
    }
   ],
   "source": [
    "df"
   ]
  },
  {
   "cell_type": "code",
   "execution_count": 394,
   "metadata": {},
   "outputs": [
    {
     "data": {
      "image/png": "[encoded data removed]",
      "text/plain": [
       "<Figure size 600x400 with 1 Axes>"
      ]
     },
     "metadata": {
      "needs_background": "light"
     },
     "output_type": "display_data"
    }
   ],
   "source": [
    "plt.hist(df['m'], histtype='step', bins=20, density=1, color='blue', label='m')\n",
    "plt.axvline(x=m, linestyle='dashed', color='blue')\n",
    "plt.hist(df['b'], histtype='step', bins=20, density=1, color='magenta', label='b')\n",
    "plt.axvline(x=b, linestyle='dashed', color='magenta')\n",
    "plt.hist(df['bias'], histtype='step', bins=20, density=1, color='green', label='bias')\n",
    "plt.axvline(x=bias, linestyle='dashed', color='green')\n",
    "plt.legend()\n",
    "plt.show()"
   ]
  },
  {
   "cell_type": "code",
   "execution_count": 395,
   "metadata": {},
   "outputs": [
    {
     "data": {
      "image/png": "[encoded data removed]",
      "text/plain": [
       "<Figure size 600x400 with 1 Axes>"
      ]
     },
     "metadata": {
      "needs_background": "light"
     },
     "output_type": "display_data"
    }
   ],
   "source": [
    "plt.scatter(df['m'],df['b'], s=0.3, color='black')\n",
    "plt.axvline(m, linestyle='dashed', label='m', color='blue')\n",
    "plt.axhline(b, linestyle='dashed', label='b', color='magenta')\n",
    "plt.legend()\n",
    "plt.show()"
   ]
  },
  {
   "cell_type": "markdown",
   "metadata": {},
   "source": [
    "This captures much better the data!\n",
    "\n",
    "- Observe that the model does not have an explicit 'likelihood' at this level.  We just tell the model a relationship between the data and the parameters\n",
    "- Try at home: change the 1/10 in the exponential to a new parameter to be inferred (try using more datapoints)"
   ]
  },
  {
   "cell_type": "code",
   "execution_count": null,
   "metadata": {},
   "outputs": [],
   "source": []
  }
 ],
 "metadata": {
  "kernelspec": {
   "display_name": "Python 3 (ipykernel)",
   "language": "python",
   "name": "python3"
  },
  "language_info": {
   "codemirror_mode": {
    "name": "ipython",
    "version": 3
   },
   "file_extension": ".py",
   "mimetype": "text/x-python",
   "name": "python",
   "nbconvert_exporter": "python",
   "pygments_lexer": "ipython3",
   "version": "3.8.10"
  }
 },
 "nbformat": 4,
 "nbformat_minor": 4
}
