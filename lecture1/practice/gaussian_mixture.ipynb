{
 "cells": [
  {
   "cell_type": "markdown",
   "metadata": {},
   "source": [
    "# Minicourse of Bayesian Machine Learning for Scientific Research\n",
    "## Lecture 1\n",
    "\n",
    "This notebook if intended solely for the Minicourse of Bayesian Machine Learning for Scientific Research.  \n",
    "\n",
    "We want you to pay attention and participate in the lectures, this is why the notebook is not self-contained.  It has many comments that should be uncommented and tested, etc."
   ]
  },
  {
   "cell_type": "code",
   "execution_count": 72,
   "metadata": {},
   "outputs": [],
   "source": [
    "import stan\n",
    "import pandas as pd\n",
    "import numpy as np\n",
    "import scipy.stats as stats \n",
    "import matplotlib\n",
    "import matplotlib.pyplot as plt\n",
    "#matplotlib.rcParams['figure.figsize']=5,5\n",
    "matplotlib.rcParams['figure.dpi']=100\n",
    "#plt.style.use('ggplot')"
   ]
  },
  {
   "cell_type": "code",
   "execution_count": 2,
   "metadata": {},
   "outputs": [],
   "source": [
    "# this is a work around found at \n",
    "# https://stackoverflow.com/questions/56154176/runtimeerror-asyncio-run-cannot-be-called-from-a-running-event-loop-in-spyd\n",
    "import nest_asyncio\n",
    "nest_asyncio.apply()"
   ]
  },
  {
   "cell_type": "markdown",
   "metadata": {},
   "source": [
    "### Generate data"
   ]
  },
  {
   "cell_type": "code",
   "execution_count": 9,
   "metadata": {},
   "outputs": [],
   "source": [
    "# Create data sampled from a mixture of gaussians\n",
    "# define the parameters\n",
    "np.random.seed(1)\n",
    "mu0 = 2\n",
    "sigma0 = 1.5\n",
    "mu1 = 5\n",
    "sigma1 = 1.3\n",
    "p = 0.8 # mixture parameter\n",
    "#sampling\n",
    "out = []\n",
    "bernoulli = np.random.binomial(1, p, size=10000)\n",
    "for i in range(len(bernoulli)):\n",
    "    if bernoulli[i] == 1:\n",
    "        out.append(np.random.normal(mu0,sigma0))\n",
    "    else:\n",
    "        out.append(np.random.normal(mu1,sigma1))"
   ]
  },
  {
   "cell_type": "code",
   "execution_count": 10,
   "metadata": {},
   "outputs": [
    {
     "data": {
      "image/png": "[encoded data removed]",
      "text/plain": [
       "<Figure size 432x288 with 1 Axes>"
      ]
     },
     "metadata": {
      "needs_background": "light"
     },
     "output_type": "display_data"
    }
   ],
   "source": [
    "# We plot the data without labels (as we would actually see it!)\n",
    "plt.hist(out, bins=30)\n",
    "plt.show()"
   ]
  },
  {
   "cell_type": "markdown",
   "metadata": {},
   "source": [
    "### Implementing the Gaussian Mixture model"
   ]
  },
  {
   "cell_type": "code",
   "execution_count": 11,
   "metadata": {},
   "outputs": [],
   "source": [
    "my_mixture=\"\"\"\n",
    "data {\n",
    " int <lower=0> N;\n",
    " vector[N] y;\n",
    "}\n",
    "\n",
    "parameters {\n",
    "  ordered[2] mu;  // This tells the sampler that always mu[1] < mu[2]\n",
    "  //real mu[2];   // Study what happens if we use this line instead of the above  (it is called 'label switching')\n",
    "  real<lower=0> sigma[2];\n",
    "  real<lower=0, upper=1> theta;\n",
    "}\n",
    "\n",
    "model {   \n",
    " sigma ~ normal(0, 2);  \n",
    " mu[1] ~ normal(3, 2);\n",
    " mu[2] ~ normal(3, 2);\n",
    " theta ~ beta(1, 1);  //this is a uniform flat distribution for p in (0,1)\n",
    " for (n in 1:N)\n",
    "   target += log_mix(theta,\n",
    "                     normal_lpdf(y[n] | mu[1], sigma[1]),\n",
    "                     normal_lpdf(y[n] | mu[2], sigma[2]));\n",
    "}\n",
    "\"\"\""
   ]
  },
  {
   "cell_type": "code",
   "execution_count": 12,
   "metadata": {},
   "outputs": [],
   "source": [
    "my_data={'N':len(out),'y':out}"
   ]
  },
  {
   "cell_type": "code",
   "execution_count": 13,
   "metadata": {},
   "outputs": [
    {
     "name": "stderr",
     "output_type": "stream",
     "text": [
      "\u001b[32mBuilding:\u001b[0m found in cache, done.\n",
      "\u001b[36mMessages from \u001b[0m\u001b[36;1mstanc\u001b[0m\u001b[36m:\u001b[0m\n",
      "Warning in '/tmp/httpstan_6rajflcu/model_x7vzjora.stan', line 10, column 2: Declaration\n",
      "    of arrays by placing brackets after a variable name is deprecated and\n",
      "    will be removed in Stan 2.33.0. Instead use the array keyword before the\n",
      "    type. This can be changed automatically using the auto-format flag to\n",
      "    stanc\n",
      "Warning in '/tmp/httpstan_6rajflcu/model_x7vzjora.stan', line 18, column 1: The\n",
      "    parameter theta is on the left-hand side of more than one tilde\n",
      "    statement.\n",
      "Warning: The parameter mu has 2 priors.\n"
     ]
    }
   ],
   "source": [
    "model = stan.build(my_mixture, data=my_data, random_seed=1);"
   ]
  },
  {
   "cell_type": "code",
   "execution_count": 8,
   "metadata": {},
   "outputs": [
    {
     "name": "stderr",
     "output_type": "stream",
     "text": [
      "\u001b[36mSampling:\u001b[0m   0%\n",
      "\u001b[1A\u001b[0J\u001b[36mSampling:\u001b[0m   0% (1/10000)\n",
      "\u001b[1A\u001b[0J\u001b[36mSampling:\u001b[0m   0% (2/10000)\n",
      "\u001b[1A\u001b[0J\u001b[36mSampling:\u001b[0m   1% (102/10000)\n",
      "\u001b[1A\u001b[0J\u001b[36mSampling:\u001b[0m   2% (202/10000)\n",
      "\u001b[1A\u001b[0J\u001b[36mSampling:\u001b[0m   3% (302/10000)\n",
      "\u001b[1A\u001b[0J\u001b[36mSampling:\u001b[0m   6% (601/10000)\n",
      "\u001b[1A\u001b[0J\u001b[36mSampling:\u001b[0m   8% (800/10000)\n",
      "\u001b[1A\u001b[0J\u001b[36mSampling:\u001b[0m  11% (1100/10000)\n",
      "\u001b[1A\u001b[0J\u001b[36mSampling:\u001b[0m  14% (1400/10000)\n",
      "\u001b[1A\u001b[0J\u001b[36mSampling:\u001b[0m  16% (1600/10000)\n",
      "\u001b[1A\u001b[0J\u001b[36mSampling:\u001b[0m  20% (2000/10000)\n",
      "\u001b[1A\u001b[0J\u001b[36mSampling:\u001b[0m  21% (2100/10000)\n",
      "\u001b[1A\u001b[0J\u001b[36mSampling:\u001b[0m  24% (2400/10000)\n",
      "\u001b[1A\u001b[0J\u001b[36mSampling:\u001b[0m  28% (2800/10000)\n",
      "\u001b[1A\u001b[0J\u001b[36mSampling:\u001b[0m  31% (3100/10000)\n",
      "\u001b[1A\u001b[0J\u001b[36mSampling:\u001b[0m  33% (3300/10000)\n",
      "\u001b[1A\u001b[0J\u001b[36mSampling:\u001b[0m  44% (4400/10000)\n",
      "\u001b[1A\u001b[0J\u001b[36mSampling:\u001b[0m  55% (5500/10000)\n",
      "\u001b[1A\u001b[0J\u001b[36mSampling:\u001b[0m  67% (6700/10000)\n",
      "\u001b[1A\u001b[0J\u001b[36mSampling:\u001b[0m  81% (8100/10000)\n",
      "\u001b[1A\u001b[0J\u001b[36mSampling:\u001b[0m  92% (9200/10000)\n",
      "\u001b[1A\u001b[0J\u001b[36mSampling:\u001b[0m  98% (9800/10000)\n",
      "\u001b[1A\u001b[0J\u001b[36mSampling:\u001b[0m 100% (10000/10000)\n",
      "\u001b[1A\u001b[0J\u001b[32mSampling:\u001b[0m 100% (10000/10000), done.\n",
      "\u001b[36mMessages received during sampling:\u001b[0m\n",
      "  Gradient evaluation took 0.000283 seconds\n",
      "  1000 transitions using 10 leapfrog steps per transition would take 2.83 seconds.\n",
      "  Adjust your expectations accordingly!\n",
      "  Informational Message: The current Metropolis proposal is about to be rejected because of the following issue:\n",
      "  Exception: normal_lpdf: Location parameter is inf, but must be finite! (in '/tmp/httpstan_s132rge3/model_x7vzjora.stan', line 20, column 3 to line 22, column 58)\n",
      "  If this warning occurs sporadically, such as for highly constrained variable types like covariance matrices, then the sampler is fine,\n",
      "  but if this warning occurs often then your model may be either severely ill-conditioned or misspecified.\n",
      "  Gradient evaluation took 0.000277 seconds\n",
      "  1000 transitions using 10 leapfrog steps per transition would take 2.77 seconds.\n",
      "  Adjust your expectations accordingly!\n",
      "  Informational Message: The current Metropolis proposal is about to be rejected because of the following issue:\n",
      "  Exception: normal_lpdf: Location parameter is inf, but must be finite! (in '/tmp/httpstan_s132rge3/model_x7vzjora.stan', line 20, column 3 to line 22, column 58)\n",
      "  If this warning occurs sporadically, such as for highly constrained variable types like covariance matrices, then the sampler is fine,\n",
      "  but if this warning occurs often then your model may be either severely ill-conditioned or misspecified.\n",
      "  Informational Message: The current Metropolis proposal is about to be rejected because of the following issue:\n",
      "  Exception: normal_lpdf: Location parameter is inf, but must be finite! (in '/tmp/httpstan_s132rge3/model_x7vzjora.stan', line 20, column 3 to line 22, column 58)\n",
      "  If this warning occurs sporadically, such as for highly constrained variable types like covariance matrices, then the sampler is fine,\n",
      "  but if this warning occurs often then your model may be either severely ill-conditioned or misspecified.\n",
      "  Informational Message: The current Metropolis proposal is about to be rejected because of the following issue:\n",
      "  Exception: normal_lpdf: Location parameter is inf, but must be finite! (in '/tmp/httpstan_s132rge3/model_x7vzjora.stan', line 20, column 3 to line 22, column 58)\n",
      "  If this warning occurs sporadically, such as for highly constrained variable types like covariance matrices, then the sampler is fine,\n",
      "  but if this warning occurs often then your model may be either severely ill-conditioned or misspecified.\n",
      "  Informational Message: The current Metropolis proposal is about to be rejected because of the following issue:\n",
      "  Exception: normal_lpdf: Location parameter is inf, but must be finite! (in '/tmp/httpstan_s132rge3/model_x7vzjora.stan', line 20, column 3 to line 22, column 58)\n",
      "  If this warning occurs sporadically, such as for highly constrained variable types like covariance matrices, then the sampler is fine,\n",
      "  but if this warning occurs often then your model may be either severely ill-conditioned or misspecified.\n",
      "  Informational Message: The current Metropolis proposal is about to be rejected because of the following issue:\n",
      "  Exception: normal_lpdf: Location parameter is inf, but must be finite! (in '/tmp/httpstan_s132rge3/model_x7vzjora.stan', line 20, column 3 to line 22, column 58)\n",
      "  If this warning occurs sporadically, such as for highly constrained variable types like covariance matrices, then the sampler is fine,\n",
      "  but if this warning occurs often then your model may be either severely ill-conditioned or misspecified.\n",
      "  Gradient evaluation took 0.000283 seconds\n",
      "  1000 transitions using 10 leapfrog steps per transition would take 2.83 seconds.\n",
      "  Adjust your expectations accordingly!\n",
      "  Informational Message: The current Metropolis proposal is about to be rejected because of the following issue:\n",
      "  Exception: normal_lpdf: Location parameter is inf, but must be finite! (in '/tmp/httpstan_s132rge3/model_x7vzjora.stan', line 20, column 3 to line 22, column 58)\n",
      "  If this warning occurs sporadically, such as for highly constrained variable types like covariance matrices, then the sampler is fine,\n",
      "  but if this warning occurs often then your model may be either severely ill-conditioned or misspecified.\n",
      "  Gradient evaluation took 0.000344 seconds\n",
      "  1000 transitions using 10 leapfrog steps per transition would take 3.44 seconds.\n",
      "  Adjust your expectations accordingly!\n",
      "  Informational Message: The current Metropolis proposal is about to be rejected because of the following issue:\n",
      "  Exception: normal_lpdf: Scale parameter is 0, but must be positive! (in '/tmp/httpstan_s132rge3/model_x7vzjora.stan', line 20, column 3 to line 22, column 58)\n",
      "  If this warning occurs sporadically, such as for highly constrained variable types like covariance matrices, then the sampler is fine,\n",
      "  but if this warning occurs often then your model may be either severely ill-conditioned or misspecified.\n",
      "  Gradient evaluation took 0.000292 seconds\n",
      "  1000 transitions using 10 leapfrog steps per transition would take 2.92 seconds.\n",
      "  Adjust your expectations accordingly!\n"
     ]
    }
   ],
   "source": [
    "fit = model.sample(num_chains=5, num_samples=1000)"
   ]
  },
  {
   "cell_type": "code",
   "execution_count": 9,
   "metadata": {},
   "outputs": [],
   "source": [
    "df = fit.to_frame() "
   ]
  },
  {
   "cell_type": "code",
   "execution_count": 10,
   "metadata": {},
   "outputs": [
    {
     "data": {
      "text/html": [
       "<div>\n",
       "<style scoped>\n",
       "    .dataframe tbody tr th:only-of-type {\n",
       "        vertical-align: middle;\n",
       "    }\n",
       "\n",
       "    .dataframe tbody tr th {\n",
       "        vertical-align: top;\n",
       "    }\n",
       "\n",
       "    .dataframe thead th {\n",
       "        text-align: right;\n",
       "    }\n",
       "</style>\n",
       "<table border=\"1\" class=\"dataframe\">\n",
       "  <thead>\n",
       "    <tr style=\"text-align: right;\">\n",
       "      <th>parameters</th>\n",
       "      <th>lp__</th>\n",
       "      <th>accept_stat__</th>\n",
       "      <th>stepsize__</th>\n",
       "      <th>treedepth__</th>\n",
       "      <th>n_leapfrog__</th>\n",
       "      <th>divergent__</th>\n",
       "      <th>energy__</th>\n",
       "      <th>mu.1</th>\n",
       "      <th>mu.2</th>\n",
       "      <th>sigma.1</th>\n",
       "      <th>sigma.2</th>\n",
       "      <th>theta</th>\n",
       "    </tr>\n",
       "    <tr>\n",
       "      <th>draws</th>\n",
       "      <th></th>\n",
       "      <th></th>\n",
       "      <th></th>\n",
       "      <th></th>\n",
       "      <th></th>\n",
       "      <th></th>\n",
       "      <th></th>\n",
       "      <th></th>\n",
       "      <th></th>\n",
       "      <th></th>\n",
       "      <th></th>\n",
       "      <th></th>\n",
       "    </tr>\n",
       "  </thead>\n",
       "  <tbody>\n",
       "    <tr>\n",
       "      <th>0</th>\n",
       "      <td>-2081.286964</td>\n",
       "      <td>0.828670</td>\n",
       "      <td>0.120567</td>\n",
       "      <td>2.0</td>\n",
       "      <td>7.0</td>\n",
       "      <td>0.0</td>\n",
       "      <td>2083.097357</td>\n",
       "      <td>2.466486</td>\n",
       "      <td>6.040714</td>\n",
       "      <td>1.805488</td>\n",
       "      <td>0.691627</td>\n",
       "      <td>0.911918</td>\n",
       "    </tr>\n",
       "    <tr>\n",
       "      <th>1</th>\n",
       "      <td>-2077.875577</td>\n",
       "      <td>0.994540</td>\n",
       "      <td>0.060051</td>\n",
       "      <td>3.0</td>\n",
       "      <td>7.0</td>\n",
       "      <td>0.0</td>\n",
       "      <td>2079.183856</td>\n",
       "      <td>2.210275</td>\n",
       "      <td>5.523963</td>\n",
       "      <td>1.753013</td>\n",
       "      <td>1.055584</td>\n",
       "      <td>0.881072</td>\n",
       "    </tr>\n",
       "    <tr>\n",
       "      <th>2</th>\n",
       "      <td>-2078.692142</td>\n",
       "      <td>0.681846</td>\n",
       "      <td>0.146824</td>\n",
       "      <td>3.0</td>\n",
       "      <td>7.0</td>\n",
       "      <td>0.0</td>\n",
       "      <td>2083.732047</td>\n",
       "      <td>1.781341</td>\n",
       "      <td>4.743379</td>\n",
       "      <td>1.408682</td>\n",
       "      <td>1.278407</td>\n",
       "      <td>0.685911</td>\n",
       "    </tr>\n",
       "    <tr>\n",
       "      <th>3</th>\n",
       "      <td>-2082.049462</td>\n",
       "      <td>0.967822</td>\n",
       "      <td>0.157554</td>\n",
       "      <td>4.0</td>\n",
       "      <td>23.0</td>\n",
       "      <td>0.0</td>\n",
       "      <td>2083.026385</td>\n",
       "      <td>2.057336</td>\n",
       "      <td>4.578836</td>\n",
       "      <td>1.757898</td>\n",
       "      <td>1.525309</td>\n",
       "      <td>0.783214</td>\n",
       "    </tr>\n",
       "    <tr>\n",
       "      <th>4</th>\n",
       "      <td>-2076.124927</td>\n",
       "      <td>0.982889</td>\n",
       "      <td>0.098455</td>\n",
       "      <td>4.0</td>\n",
       "      <td>31.0</td>\n",
       "      <td>0.0</td>\n",
       "      <td>2078.510018</td>\n",
       "      <td>2.208948</td>\n",
       "      <td>5.512449</td>\n",
       "      <td>1.616734</td>\n",
       "      <td>1.010748</td>\n",
       "      <td>0.852655</td>\n",
       "    </tr>\n",
       "    <tr>\n",
       "      <th>...</th>\n",
       "      <td>...</td>\n",
       "      <td>...</td>\n",
       "      <td>...</td>\n",
       "      <td>...</td>\n",
       "      <td>...</td>\n",
       "      <td>...</td>\n",
       "      <td>...</td>\n",
       "      <td>...</td>\n",
       "      <td>...</td>\n",
       "      <td>...</td>\n",
       "      <td>...</td>\n",
       "      <td>...</td>\n",
       "    </tr>\n",
       "    <tr>\n",
       "      <th>4995</th>\n",
       "      <td>-2079.793190</td>\n",
       "      <td>0.685864</td>\n",
       "      <td>0.120567</td>\n",
       "      <td>2.0</td>\n",
       "      <td>3.0</td>\n",
       "      <td>0.0</td>\n",
       "      <td>2080.367844</td>\n",
       "      <td>2.129844</td>\n",
       "      <td>5.119786</td>\n",
       "      <td>1.552145</td>\n",
       "      <td>1.025597</td>\n",
       "      <td>0.822579</td>\n",
       "    </tr>\n",
       "    <tr>\n",
       "      <th>4996</th>\n",
       "      <td>-2076.382096</td>\n",
       "      <td>0.943863</td>\n",
       "      <td>0.060051</td>\n",
       "      <td>4.0</td>\n",
       "      <td>31.0</td>\n",
       "      <td>0.0</td>\n",
       "      <td>2079.356726</td>\n",
       "      <td>2.076436</td>\n",
       "      <td>5.482081</td>\n",
       "      <td>1.609151</td>\n",
       "      <td>1.026468</td>\n",
       "      <td>0.839874</td>\n",
       "    </tr>\n",
       "    <tr>\n",
       "      <th>4997</th>\n",
       "      <td>-2079.043675</td>\n",
       "      <td>0.994879</td>\n",
       "      <td>0.146824</td>\n",
       "      <td>4.0</td>\n",
       "      <td>23.0</td>\n",
       "      <td>0.0</td>\n",
       "      <td>2082.142639</td>\n",
       "      <td>2.091118</td>\n",
       "      <td>5.395731</td>\n",
       "      <td>1.581178</td>\n",
       "      <td>0.960701</td>\n",
       "      <td>0.801554</td>\n",
       "    </tr>\n",
       "    <tr>\n",
       "      <th>4998</th>\n",
       "      <td>-2078.536829</td>\n",
       "      <td>0.992421</td>\n",
       "      <td>0.157554</td>\n",
       "      <td>3.0</td>\n",
       "      <td>7.0</td>\n",
       "      <td>0.0</td>\n",
       "      <td>2079.761037</td>\n",
       "      <td>1.855363</td>\n",
       "      <td>5.039284</td>\n",
       "      <td>1.564957</td>\n",
       "      <td>1.208919</td>\n",
       "      <td>0.782371</td>\n",
       "    </tr>\n",
       "    <tr>\n",
       "      <th>4999</th>\n",
       "      <td>-2078.768782</td>\n",
       "      <td>1.000000</td>\n",
       "      <td>0.098455</td>\n",
       "      <td>2.0</td>\n",
       "      <td>3.0</td>\n",
       "      <td>0.0</td>\n",
       "      <td>2080.534452</td>\n",
       "      <td>1.904619</td>\n",
       "      <td>5.082025</td>\n",
       "      <td>1.469533</td>\n",
       "      <td>1.103704</td>\n",
       "      <td>0.796447</td>\n",
       "    </tr>\n",
       "  </tbody>\n",
       "</table>\n",
       "<p>5000 rows × 12 columns</p>\n",
       "</div>"
      ],
      "text/plain": [
       "parameters         lp__  accept_stat__  stepsize__  treedepth__  n_leapfrog__  \\\n",
       "draws                                                                           \n",
       "0          -2081.286964       0.828670    0.120567          2.0           7.0   \n",
       "1          -2077.875577       0.994540    0.060051          3.0           7.0   \n",
       "2          -2078.692142       0.681846    0.146824          3.0           7.0   \n",
       "3          -2082.049462       0.967822    0.157554          4.0          23.0   \n",
       "4          -2076.124927       0.982889    0.098455          4.0          31.0   \n",
       "...                 ...            ...         ...          ...           ...   \n",
       "4995       -2079.793190       0.685864    0.120567          2.0           3.0   \n",
       "4996       -2076.382096       0.943863    0.060051          4.0          31.0   \n",
       "4997       -2079.043675       0.994879    0.146824          4.0          23.0   \n",
       "4998       -2078.536829       0.992421    0.157554          3.0           7.0   \n",
       "4999       -2078.768782       1.000000    0.098455          2.0           3.0   \n",
       "\n",
       "parameters  divergent__     energy__      mu.1      mu.2   sigma.1   sigma.2  \\\n",
       "draws                                                                          \n",
       "0                   0.0  2083.097357  2.466486  6.040714  1.805488  0.691627   \n",
       "1                   0.0  2079.183856  2.210275  5.523963  1.753013  1.055584   \n",
       "2                   0.0  2083.732047  1.781341  4.743379  1.408682  1.278407   \n",
       "3                   0.0  2083.026385  2.057336  4.578836  1.757898  1.525309   \n",
       "4                   0.0  2078.510018  2.208948  5.512449  1.616734  1.010748   \n",
       "...                 ...          ...       ...       ...       ...       ...   \n",
       "4995                0.0  2080.367844  2.129844  5.119786  1.552145  1.025597   \n",
       "4996                0.0  2079.356726  2.076436  5.482081  1.609151  1.026468   \n",
       "4997                0.0  2082.142639  2.091118  5.395731  1.581178  0.960701   \n",
       "4998                0.0  2079.761037  1.855363  5.039284  1.564957  1.208919   \n",
       "4999                0.0  2080.534452  1.904619  5.082025  1.469533  1.103704   \n",
       "\n",
       "parameters     theta  \n",
       "draws                 \n",
       "0           0.911918  \n",
       "1           0.881072  \n",
       "2           0.685911  \n",
       "3           0.783214  \n",
       "4           0.852655  \n",
       "...              ...  \n",
       "4995        0.822579  \n",
       "4996        0.839874  \n",
       "4997        0.801554  \n",
       "4998        0.782371  \n",
       "4999        0.796447  \n",
       "\n",
       "[5000 rows x 12 columns]"
      ]
     },
     "execution_count": 10,
     "metadata": {},
     "output_type": "execute_result"
    }
   ],
   "source": [
    "df"
   ]
  },
  {
   "cell_type": "code",
   "execution_count": 11,
   "metadata": {},
   "outputs": [
    {
     "data": {
      "image/png": "[encoded data removed]",
      "text/plain": [
       "<Figure size 360x360 with 1 Axes>"
      ]
     },
     "metadata": {},
     "output_type": "display_data"
    }
   ],
   "source": [
    "plt.hist(df['theta'], histtype='step', bins=40)\n",
    "plt.axvline(x=p, linestyle='dashed')\n",
    "#plt.axvline(x=1-p, linestyle='dashed')\n",
    "plt.title('Mixture corefficient p')\n",
    "plt.show()"
   ]
  },
  {
   "cell_type": "code",
   "execution_count": 12,
   "metadata": {},
   "outputs": [
    {
     "data": {
      "image/png": "[encoded data removed]",
      "text/plain": [
       "<Figure size 360x360 with 1 Axes>"
      ]
     },
     "metadata": {},
     "output_type": "display_data"
    }
   ],
   "source": [
    "plt.hist(df['mu.1'],histtype='step', bins=40, label='mu1')\n",
    "plt.hist(df['mu.2'],histtype='step', bins=40, label='mu2')\n",
    "plt.axvline(x=mu0, linestyle='dashed')\n",
    "plt.axvline(x=mu1, linestyle='dashed')\n",
    "plt.title(\"Gaussian's mean $\\mu_1$ and $\\mu_2$\")\n",
    "plt.show()"
   ]
  },
  {
   "cell_type": "code",
   "execution_count": 13,
   "metadata": {},
   "outputs": [
    {
     "data": {
      "image/png": "[encoded data removed]",
      "text/plain": [
       "<Figure size 360x360 with 1 Axes>"
      ]
     },
     "metadata": {},
     "output_type": "display_data"
    }
   ],
   "source": [
    "plt.hist(df['sigma.1'],histtype='step', bins=40, label='sigma1')\n",
    "plt.hist(df['sigma.2'],histtype='step', bins=40, label='sigma2')\n",
    "plt.axvline(x=sigma0, linestyle='dashed')\n",
    "plt.axvline(x=sigma1, linestyle='dashed')\n",
    "plt.title(\"Gaussian's sigmas $\\sigma_1$ and $\\sigma_2$\")\n",
    "plt.show()"
   ]
  },
  {
   "cell_type": "code",
   "execution_count": null,
   "metadata": {},
   "outputs": [],
   "source": []
  },
  {
   "cell_type": "code",
   "execution_count": null,
   "metadata": {},
   "outputs": [],
   "source": []
  },
  {
   "cell_type": "markdown",
   "metadata": {},
   "source": [
    "## Draft"
   ]
  },
  {
   "cell_type": "code",
   "execution_count": 24,
   "metadata": {},
   "outputs": [
    {
     "data": {
      "image/png": "[encoded data removed]",
      "text/plain": [
       "<Figure size 432x288 with 1 Axes>"
      ]
     },
     "metadata": {
      "needs_background": "light"
     },
     "output_type": "display_data"
    }
   ],
   "source": [
    "plt.hist(np.random.beta(1,2,10000), histtype='step', bins=20, density=1)\n",
    "plt.show()"
   ]
  },
  {
   "cell_type": "code",
   "execution_count": 29,
   "metadata": {},
   "outputs": [
    {
     "data": {
      "image/png": "[encoded data removed]",
      "text/plain": [
       "<Figure size 432x288 with 1 Axes>"
      ]
     },
     "metadata": {
      "needs_background": "light"
     },
     "output_type": "display_data"
    }
   ],
   "source": [
    "x = np.linspace(0,1,100)\n",
    "plt.plot(x, stats.beta.pdf(x,2,4))\n",
    "plt.show()"
   ]
  },
  {
   "cell_type": "code",
   "execution_count": null,
   "metadata": {},
   "outputs": [],
   "source": []
  }
 ],
 "metadata": {
  "kernelspec": {
   "display_name": "Python 3 (ipykernel)",
   "language": "python",
   "name": "python3"
  },
  "language_info": {
   "codemirror_mode": {
    "name": "ipython",
    "version": 3
   },
   "file_extension": ".py",
   "mimetype": "text/x-python",
   "name": "python",
   "nbconvert_exporter": "python",
   "pygments_lexer": "ipython3",
   "version": "3.8.10"
  }
 },
 "nbformat": 4,
 "nbformat_minor": 4
}
